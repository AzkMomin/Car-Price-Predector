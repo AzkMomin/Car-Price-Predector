{
  "nbformat": 4,
  "nbformat_minor": 0,
  "metadata": {
    "colab": {
      "name": "Car price predection.ipynb",
      "provenance": []
    },
    "kernelspec": {
      "display_name": "Python 3",
      "name": "python3"
    },
    "language_info": {
      "name": "python"
    },
    "widgets": {
      "application/vnd.jupyter.widget-state+json": {
        "05c5c284d9114d209999bca0db433209": {
          "model_module": "@jupyter-widgets/controls",
          "model_name": "HBoxModel",
          "model_module_version": "1.5.0",
          "state": {
            "_view_name": "HBoxView",
            "_dom_classes": [],
            "_model_name": "HBoxModel",
            "_view_module": "@jupyter-widgets/controls",
            "_model_module_version": "1.5.0",
            "_view_count": null,
            "_view_module_version": "1.5.0",
            "box_style": "",
            "layout": "IPY_MODEL_8a467f6e7988461688598e1f2614fca6",
            "_model_module": "@jupyter-widgets/controls",
            "children": [
              "IPY_MODEL_b05275f35a484645b1706fd1ccbd1789",
              "IPY_MODEL_3db0183b535045ad87173b9a6f9e2fa9",
              "IPY_MODEL_e38c983206334433b00ddba27d156def"
            ]
          }
        },
        "8a467f6e7988461688598e1f2614fca6": {
          "model_module": "@jupyter-widgets/base",
          "model_name": "LayoutModel",
          "model_module_version": "1.2.0",
          "state": {
            "_view_name": "LayoutView",
            "grid_template_rows": null,
            "right": null,
            "justify_content": null,
            "_view_module": "@jupyter-widgets/base",
            "overflow": null,
            "_model_module_version": "1.2.0",
            "_view_count": null,
            "flex_flow": null,
            "width": null,
            "min_width": null,
            "border": null,
            "align_items": null,
            "bottom": null,
            "_model_module": "@jupyter-widgets/base",
            "top": null,
            "grid_column": null,
            "overflow_y": null,
            "overflow_x": null,
            "grid_auto_flow": null,
            "grid_area": null,
            "grid_template_columns": null,
            "flex": null,
            "_model_name": "LayoutModel",
            "justify_items": null,
            "grid_row": null,
            "max_height": null,
            "align_content": null,
            "visibility": null,
            "align_self": null,
            "height": null,
            "min_height": null,
            "padding": null,
            "grid_auto_rows": null,
            "grid_gap": null,
            "max_width": null,
            "order": null,
            "_view_module_version": "1.2.0",
            "grid_template_areas": null,
            "object_position": null,
            "object_fit": null,
            "grid_auto_columns": null,
            "margin": null,
            "display": null,
            "left": null
          }
        },
        "b05275f35a484645b1706fd1ccbd1789": {
          "model_module": "@jupyter-widgets/controls",
          "model_name": "HTMLModel",
          "model_module_version": "1.5.0",
          "state": {
            "_view_name": "HTMLView",
            "style": "IPY_MODEL_738f67fa951044df8f4f24aa83cd3aa1",
            "_dom_classes": [],
            "description": "",
            "_model_name": "HTMLModel",
            "placeholder": "​",
            "_view_module": "@jupyter-widgets/controls",
            "_model_module_version": "1.5.0",
            "value": "Optimization Progress: 100%",
            "_view_count": null,
            "_view_module_version": "1.5.0",
            "description_tooltip": null,
            "_model_module": "@jupyter-widgets/controls",
            "layout": "IPY_MODEL_0bf00672d108487582f24164cc2b0740"
          }
        },
        "3db0183b535045ad87173b9a6f9e2fa9": {
          "model_module": "@jupyter-widgets/controls",
          "model_name": "FloatProgressModel",
          "model_module_version": "1.5.0",
          "state": {
            "_view_name": "ProgressView",
            "style": "IPY_MODEL_7a9bc673bb8b49eea214c433d6f44538",
            "_dom_classes": [],
            "description": "",
            "_model_name": "FloatProgressModel",
            "bar_style": "",
            "max": 110,
            "_view_module": "@jupyter-widgets/controls",
            "_model_module_version": "1.5.0",
            "value": 110,
            "_view_count": null,
            "_view_module_version": "1.5.0",
            "orientation": "horizontal",
            "min": 0,
            "description_tooltip": null,
            "_model_module": "@jupyter-widgets/controls",
            "layout": "IPY_MODEL_c00de6ad9ae74bcf9710b7e98f252987"
          }
        },
        "e38c983206334433b00ddba27d156def": {
          "model_module": "@jupyter-widgets/controls",
          "model_name": "HTMLModel",
          "model_module_version": "1.5.0",
          "state": {
            "_view_name": "HTMLView",
            "style": "IPY_MODEL_647d3079d39c48138d6ce60ee8c92ab1",
            "_dom_classes": [],
            "description": "",
            "_model_name": "HTMLModel",
            "placeholder": "​",
            "_view_module": "@jupyter-widgets/controls",
            "_model_module_version": "1.5.0",
            "value": " 110/110 [00:37&lt;00:00,  4.27pipeline/s]",
            "_view_count": null,
            "_view_module_version": "1.5.0",
            "description_tooltip": null,
            "_model_module": "@jupyter-widgets/controls",
            "layout": "IPY_MODEL_c05862106ea74301b90e15d499f579e5"
          }
        },
        "738f67fa951044df8f4f24aa83cd3aa1": {
          "model_module": "@jupyter-widgets/controls",
          "model_name": "DescriptionStyleModel",
          "model_module_version": "1.5.0",
          "state": {
            "_view_name": "StyleView",
            "_model_name": "DescriptionStyleModel",
            "description_width": "",
            "_view_module": "@jupyter-widgets/base",
            "_model_module_version": "1.5.0",
            "_view_count": null,
            "_view_module_version": "1.2.0",
            "_model_module": "@jupyter-widgets/controls"
          }
        },
        "0bf00672d108487582f24164cc2b0740": {
          "model_module": "@jupyter-widgets/base",
          "model_name": "LayoutModel",
          "model_module_version": "1.2.0",
          "state": {
            "_view_name": "LayoutView",
            "grid_template_rows": null,
            "right": null,
            "justify_content": null,
            "_view_module": "@jupyter-widgets/base",
            "overflow": null,
            "_model_module_version": "1.2.0",
            "_view_count": null,
            "flex_flow": null,
            "width": null,
            "min_width": null,
            "border": null,
            "align_items": null,
            "bottom": null,
            "_model_module": "@jupyter-widgets/base",
            "top": null,
            "grid_column": null,
            "overflow_y": null,
            "overflow_x": null,
            "grid_auto_flow": null,
            "grid_area": null,
            "grid_template_columns": null,
            "flex": null,
            "_model_name": "LayoutModel",
            "justify_items": null,
            "grid_row": null,
            "max_height": null,
            "align_content": null,
            "visibility": null,
            "align_self": null,
            "height": null,
            "min_height": null,
            "padding": null,
            "grid_auto_rows": null,
            "grid_gap": null,
            "max_width": null,
            "order": null,
            "_view_module_version": "1.2.0",
            "grid_template_areas": null,
            "object_position": null,
            "object_fit": null,
            "grid_auto_columns": null,
            "margin": null,
            "display": null,
            "left": null
          }
        },
        "7a9bc673bb8b49eea214c433d6f44538": {
          "model_module": "@jupyter-widgets/controls",
          "model_name": "ProgressStyleModel",
          "model_module_version": "1.5.0",
          "state": {
            "_view_name": "StyleView",
            "_model_name": "ProgressStyleModel",
            "description_width": "",
            "_view_module": "@jupyter-widgets/base",
            "_model_module_version": "1.5.0",
            "_view_count": null,
            "_view_module_version": "1.2.0",
            "bar_color": null,
            "_model_module": "@jupyter-widgets/controls"
          }
        },
        "c00de6ad9ae74bcf9710b7e98f252987": {
          "model_module": "@jupyter-widgets/base",
          "model_name": "LayoutModel",
          "model_module_version": "1.2.0",
          "state": {
            "_view_name": "LayoutView",
            "grid_template_rows": null,
            "right": null,
            "justify_content": null,
            "_view_module": "@jupyter-widgets/base",
            "overflow": null,
            "_model_module_version": "1.2.0",
            "_view_count": null,
            "flex_flow": null,
            "width": null,
            "min_width": null,
            "border": null,
            "align_items": null,
            "bottom": null,
            "_model_module": "@jupyter-widgets/base",
            "top": null,
            "grid_column": null,
            "overflow_y": null,
            "overflow_x": null,
            "grid_auto_flow": null,
            "grid_area": null,
            "grid_template_columns": null,
            "flex": null,
            "_model_name": "LayoutModel",
            "justify_items": null,
            "grid_row": null,
            "max_height": null,
            "align_content": null,
            "visibility": null,
            "align_self": null,
            "height": null,
            "min_height": null,
            "padding": null,
            "grid_auto_rows": null,
            "grid_gap": null,
            "max_width": null,
            "order": null,
            "_view_module_version": "1.2.0",
            "grid_template_areas": null,
            "object_position": null,
            "object_fit": null,
            "grid_auto_columns": null,
            "margin": null,
            "display": null,
            "left": null
          }
        },
        "647d3079d39c48138d6ce60ee8c92ab1": {
          "model_module": "@jupyter-widgets/controls",
          "model_name": "DescriptionStyleModel",
          "model_module_version": "1.5.0",
          "state": {
            "_view_name": "StyleView",
            "_model_name": "DescriptionStyleModel",
            "description_width": "",
            "_view_module": "@jupyter-widgets/base",
            "_model_module_version": "1.5.0",
            "_view_count": null,
            "_view_module_version": "1.2.0",
            "_model_module": "@jupyter-widgets/controls"
          }
        },
        "c05862106ea74301b90e15d499f579e5": {
          "model_module": "@jupyter-widgets/base",
          "model_name": "LayoutModel",
          "model_module_version": "1.2.0",
          "state": {
            "_view_name": "LayoutView",
            "grid_template_rows": null,
            "right": null,
            "justify_content": null,
            "_view_module": "@jupyter-widgets/base",
            "overflow": null,
            "_model_module_version": "1.2.0",
            "_view_count": null,
            "flex_flow": null,
            "width": null,
            "min_width": null,
            "border": null,
            "align_items": null,
            "bottom": null,
            "_model_module": "@jupyter-widgets/base",
            "top": null,
            "grid_column": null,
            "overflow_y": null,
            "overflow_x": null,
            "grid_auto_flow": null,
            "grid_area": null,
            "grid_template_columns": null,
            "flex": null,
            "_model_name": "LayoutModel",
            "justify_items": null,
            "grid_row": null,
            "max_height": null,
            "align_content": null,
            "visibility": null,
            "align_self": null,
            "height": null,
            "min_height": null,
            "padding": null,
            "grid_auto_rows": null,
            "grid_gap": null,
            "max_width": null,
            "order": null,
            "_view_module_version": "1.2.0",
            "grid_template_areas": null,
            "object_position": null,
            "object_fit": null,
            "grid_auto_columns": null,
            "margin": null,
            "display": null,
            "left": null
          }
        }
      }
    }
  },
  "cells": [
    {
      "cell_type": "markdown",
      "metadata": {
        "id": "gdd9WojhGfic"
      },
      "source": [
        "#**Car Price Predector**\n",
        "\n",
        "DataSet is downloaded from kaggle"
      ]
    },
    {
      "cell_type": "markdown",
      "metadata": {
        "id": "r8TGjqvZGxJr"
      },
      "source": [
        "**Importing libraries**\n"
      ]
    },
    {
      "cell_type": "code",
      "metadata": {
        "id": "SdaM6WdbGbS-"
      },
      "source": [
        "import pandas as pd\n",
        "import numpy as np\n",
        "import seaborn as sns\n",
        "import matplotlib.pyplot as plt\n",
        "%matplotlib inline"
      ],
      "execution_count": null,
      "outputs": []
    },
    {
      "cell_type": "markdown",
      "metadata": {
        "id": "r2kwpeoFHQfI"
      },
      "source": [
        "**Getting data**"
      ]
    },
    {
      "cell_type": "code",
      "metadata": {
        "colab": {
          "base_uri": "https://localhost:8080/",
          "height": 206
        },
        "id": "TQqk9PulHPO9",
        "outputId": "b5da9b64-7f26-47b8-dcfd-6cc0861b513d"
      },
      "source": [
        "df = pd.read_csv('car data.csv')\n",
        "df.head()"
      ],
      "execution_count": null,
      "outputs": [
        {
          "output_type": "execute_result",
          "data": {
            "text/html": [
              "<div>\n",
              "<style scoped>\n",
              "    .dataframe tbody tr th:only-of-type {\n",
              "        vertical-align: middle;\n",
              "    }\n",
              "\n",
              "    .dataframe tbody tr th {\n",
              "        vertical-align: top;\n",
              "    }\n",
              "\n",
              "    .dataframe thead th {\n",
              "        text-align: right;\n",
              "    }\n",
              "</style>\n",
              "<table border=\"1\" class=\"dataframe\">\n",
              "  <thead>\n",
              "    <tr style=\"text-align: right;\">\n",
              "      <th></th>\n",
              "      <th>Car_Name</th>\n",
              "      <th>Year</th>\n",
              "      <th>Selling_Price</th>\n",
              "      <th>Present_Price</th>\n",
              "      <th>Kms_Driven</th>\n",
              "      <th>Fuel_Type</th>\n",
              "      <th>Seller_Type</th>\n",
              "      <th>Transmission</th>\n",
              "      <th>Owner</th>\n",
              "    </tr>\n",
              "  </thead>\n",
              "  <tbody>\n",
              "    <tr>\n",
              "      <th>0</th>\n",
              "      <td>ritz</td>\n",
              "      <td>2014</td>\n",
              "      <td>3.35</td>\n",
              "      <td>5.59</td>\n",
              "      <td>27000</td>\n",
              "      <td>Petrol</td>\n",
              "      <td>Dealer</td>\n",
              "      <td>Manual</td>\n",
              "      <td>0</td>\n",
              "    </tr>\n",
              "    <tr>\n",
              "      <th>1</th>\n",
              "      <td>sx4</td>\n",
              "      <td>2013</td>\n",
              "      <td>4.75</td>\n",
              "      <td>9.54</td>\n",
              "      <td>43000</td>\n",
              "      <td>Diesel</td>\n",
              "      <td>Dealer</td>\n",
              "      <td>Manual</td>\n",
              "      <td>0</td>\n",
              "    </tr>\n",
              "    <tr>\n",
              "      <th>2</th>\n",
              "      <td>ciaz</td>\n",
              "      <td>2017</td>\n",
              "      <td>7.25</td>\n",
              "      <td>9.85</td>\n",
              "      <td>6900</td>\n",
              "      <td>Petrol</td>\n",
              "      <td>Dealer</td>\n",
              "      <td>Manual</td>\n",
              "      <td>0</td>\n",
              "    </tr>\n",
              "    <tr>\n",
              "      <th>3</th>\n",
              "      <td>wagon r</td>\n",
              "      <td>2011</td>\n",
              "      <td>2.85</td>\n",
              "      <td>4.15</td>\n",
              "      <td>5200</td>\n",
              "      <td>Petrol</td>\n",
              "      <td>Dealer</td>\n",
              "      <td>Manual</td>\n",
              "      <td>0</td>\n",
              "    </tr>\n",
              "    <tr>\n",
              "      <th>4</th>\n",
              "      <td>swift</td>\n",
              "      <td>2014</td>\n",
              "      <td>4.60</td>\n",
              "      <td>6.87</td>\n",
              "      <td>42450</td>\n",
              "      <td>Diesel</td>\n",
              "      <td>Dealer</td>\n",
              "      <td>Manual</td>\n",
              "      <td>0</td>\n",
              "    </tr>\n",
              "  </tbody>\n",
              "</table>\n",
              "</div>"
            ],
            "text/plain": [
              "  Car_Name  Year  Selling_Price  ...  Seller_Type  Transmission Owner\n",
              "0     ritz  2014           3.35  ...       Dealer        Manual     0\n",
              "1      sx4  2013           4.75  ...       Dealer        Manual     0\n",
              "2     ciaz  2017           7.25  ...       Dealer        Manual     0\n",
              "3  wagon r  2011           2.85  ...       Dealer        Manual     0\n",
              "4    swift  2014           4.60  ...       Dealer        Manual     0\n",
              "\n",
              "[5 rows x 9 columns]"
            ]
          },
          "metadata": {},
          "execution_count": 2
        }
      ]
    },
    {
      "cell_type": "markdown",
      "metadata": {
        "id": "lp6eCL9UHbSH"
      },
      "source": [
        "**Checking missing values**\n"
      ]
    },
    {
      "cell_type": "code",
      "metadata": {
        "colab": {
          "base_uri": "https://localhost:8080/"
        },
        "id": "aeEMjYz3HZKo",
        "outputId": "27c5b46d-ab2e-4c9e-a4ef-278e0714188c"
      },
      "source": [
        "df.isnull().sum()"
      ],
      "execution_count": null,
      "outputs": [
        {
          "output_type": "execute_result",
          "data": {
            "text/plain": [
              "Car_Name         0\n",
              "Year             0\n",
              "Selling_Price    0\n",
              "Present_Price    0\n",
              "Kms_Driven       0\n",
              "Fuel_Type        0\n",
              "Seller_Type      0\n",
              "Transmission     0\n",
              "Owner            0\n",
              "dtype: int64"
            ]
          },
          "metadata": {},
          "execution_count": 3
        }
      ]
    },
    {
      "cell_type": "markdown",
      "metadata": {
        "id": "-eWcdK_EHj-B"
      },
      "source": [
        "In this data set there is no null values\n",
        "\n",
        "-----------------------------------------"
      ]
    },
    {
      "cell_type": "markdown",
      "metadata": {
        "id": "2aG_aRUyH0j2"
      },
      "source": [
        "**Getting categorical and numerical variables**"
      ]
    },
    {
      "cell_type": "code",
      "metadata": {
        "colab": {
          "base_uri": "https://localhost:8080/"
        },
        "id": "cMSe3ZoXHhJg",
        "outputId": "06446ec9-5baa-42ef-ecac-96def588dc4f"
      },
      "source": [
        "cat_var = []\n",
        "num_var = []\n",
        "for feature in df.columns:\n",
        "    if df[feature].dtype == 'O':\n",
        "        cat_var.append(feature)\n",
        "    else:\n",
        "        num_var.append(feature)\n",
        "\n",
        "print(cat_var)\n",
        "print('Length' , len(cat_var))\n",
        "print('--------------------------')\n",
        "print(num_var)\n",
        "print('Length' , len(num_var))\n",
        "print('--------------------------')"
      ],
      "execution_count": null,
      "outputs": [
        {
          "output_type": "stream",
          "name": "stdout",
          "text": [
            "['Car_Name', 'Fuel_Type', 'Seller_Type', 'Transmission']\n",
            "Length 4\n",
            "--------------------------\n",
            "['Year', 'Selling_Price', 'Present_Price', 'Kms_Driven', 'Owner']\n",
            "Length 5\n",
            "--------------------------\n"
          ]
        }
      ]
    },
    {
      "cell_type": "code",
      "metadata": {
        "colab": {
          "base_uri": "https://localhost:8080/"
        },
        "id": "2lOzNh_uJYf3",
        "outputId": "f10fa6ae-b650-4f21-a201-bc2167f8d5e4"
      },
      "source": [
        "for feature in cat_var:\n",
        "    print(feature ,\" \" , len(df[feature].unique()))"
      ],
      "execution_count": null,
      "outputs": [
        {
          "output_type": "stream",
          "name": "stdout",
          "text": [
            "Car_Name   98\n",
            "Fuel_Type   3\n",
            "Seller_Type   2\n",
            "Transmission   2\n"
          ]
        }
      ]
    },
    {
      "cell_type": "markdown",
      "metadata": {
        "id": "A0V48gDsNjlU"
      },
      "source": [
        "From above we sen that there are 98 unique variables in Car_name column ,So droping Car_name column\n"
      ]
    },
    {
      "cell_type": "markdown",
      "metadata": {
        "id": "ci5fcL8ZN6eb"
      },
      "source": [
        "**Droping car_name**"
      ]
    },
    {
      "cell_type": "code",
      "metadata": {
        "id": "xTvwj1EyL3Nh"
      },
      "source": [
        "df.drop('Car_Name', axis = 1 , inplace = True)"
      ],
      "execution_count": null,
      "outputs": []
    },
    {
      "cell_type": "code",
      "metadata": {
        "colab": {
          "base_uri": "https://localhost:8080/",
          "height": 206
        },
        "id": "1Y4AG-JSOJXv",
        "outputId": "1082f1d6-6655-4a9a-a7a2-bb7604098d91"
      },
      "source": [
        "df.head()"
      ],
      "execution_count": null,
      "outputs": [
        {
          "output_type": "execute_result",
          "data": {
            "text/html": [
              "<div>\n",
              "<style scoped>\n",
              "    .dataframe tbody tr th:only-of-type {\n",
              "        vertical-align: middle;\n",
              "    }\n",
              "\n",
              "    .dataframe tbody tr th {\n",
              "        vertical-align: top;\n",
              "    }\n",
              "\n",
              "    .dataframe thead th {\n",
              "        text-align: right;\n",
              "    }\n",
              "</style>\n",
              "<table border=\"1\" class=\"dataframe\">\n",
              "  <thead>\n",
              "    <tr style=\"text-align: right;\">\n",
              "      <th></th>\n",
              "      <th>Year</th>\n",
              "      <th>Selling_Price</th>\n",
              "      <th>Present_Price</th>\n",
              "      <th>Kms_Driven</th>\n",
              "      <th>Fuel_Type</th>\n",
              "      <th>Seller_Type</th>\n",
              "      <th>Transmission</th>\n",
              "      <th>Owner</th>\n",
              "    </tr>\n",
              "  </thead>\n",
              "  <tbody>\n",
              "    <tr>\n",
              "      <th>0</th>\n",
              "      <td>2014</td>\n",
              "      <td>3.35</td>\n",
              "      <td>5.59</td>\n",
              "      <td>27000</td>\n",
              "      <td>Petrol</td>\n",
              "      <td>Dealer</td>\n",
              "      <td>Manual</td>\n",
              "      <td>0</td>\n",
              "    </tr>\n",
              "    <tr>\n",
              "      <th>1</th>\n",
              "      <td>2013</td>\n",
              "      <td>4.75</td>\n",
              "      <td>9.54</td>\n",
              "      <td>43000</td>\n",
              "      <td>Diesel</td>\n",
              "      <td>Dealer</td>\n",
              "      <td>Manual</td>\n",
              "      <td>0</td>\n",
              "    </tr>\n",
              "    <tr>\n",
              "      <th>2</th>\n",
              "      <td>2017</td>\n",
              "      <td>7.25</td>\n",
              "      <td>9.85</td>\n",
              "      <td>6900</td>\n",
              "      <td>Petrol</td>\n",
              "      <td>Dealer</td>\n",
              "      <td>Manual</td>\n",
              "      <td>0</td>\n",
              "    </tr>\n",
              "    <tr>\n",
              "      <th>3</th>\n",
              "      <td>2011</td>\n",
              "      <td>2.85</td>\n",
              "      <td>4.15</td>\n",
              "      <td>5200</td>\n",
              "      <td>Petrol</td>\n",
              "      <td>Dealer</td>\n",
              "      <td>Manual</td>\n",
              "      <td>0</td>\n",
              "    </tr>\n",
              "    <tr>\n",
              "      <th>4</th>\n",
              "      <td>2014</td>\n",
              "      <td>4.60</td>\n",
              "      <td>6.87</td>\n",
              "      <td>42450</td>\n",
              "      <td>Diesel</td>\n",
              "      <td>Dealer</td>\n",
              "      <td>Manual</td>\n",
              "      <td>0</td>\n",
              "    </tr>\n",
              "  </tbody>\n",
              "</table>\n",
              "</div>"
            ],
            "text/plain": [
              "   Year  Selling_Price  Present_Price  ...  Seller_Type Transmission Owner\n",
              "0  2014           3.35           5.59  ...       Dealer       Manual     0\n",
              "1  2013           4.75           9.54  ...       Dealer       Manual     0\n",
              "2  2017           7.25           9.85  ...       Dealer       Manual     0\n",
              "3  2011           2.85           4.15  ...       Dealer       Manual     0\n",
              "4  2014           4.60           6.87  ...       Dealer       Manual     0\n",
              "\n",
              "[5 rows x 8 columns]"
            ]
          },
          "metadata": {},
          "execution_count": 7
        }
      ]
    },
    {
      "cell_type": "markdown",
      "metadata": {
        "id": "torey1MbOVgb"
      },
      "source": [
        "**Treansforming Year to Years**"
      ]
    },
    {
      "cell_type": "code",
      "metadata": {
        "id": "n3jFppyVOQ8j"
      },
      "source": [
        "df['Years'] = 2021 - df['Year']\n",
        "df.drop('Year' , axis  = 1 , inplace = True)"
      ],
      "execution_count": null,
      "outputs": []
    },
    {
      "cell_type": "code",
      "metadata": {
        "colab": {
          "base_uri": "https://localhost:8080/",
          "height": 206
        },
        "id": "0Q3WP2hEOooU",
        "outputId": "688f92c1-2687-4014-a4ff-1e2dd3ad355b"
      },
      "source": [
        "df.head()"
      ],
      "execution_count": null,
      "outputs": [
        {
          "output_type": "execute_result",
          "data": {
            "text/html": [
              "<div>\n",
              "<style scoped>\n",
              "    .dataframe tbody tr th:only-of-type {\n",
              "        vertical-align: middle;\n",
              "    }\n",
              "\n",
              "    .dataframe tbody tr th {\n",
              "        vertical-align: top;\n",
              "    }\n",
              "\n",
              "    .dataframe thead th {\n",
              "        text-align: right;\n",
              "    }\n",
              "</style>\n",
              "<table border=\"1\" class=\"dataframe\">\n",
              "  <thead>\n",
              "    <tr style=\"text-align: right;\">\n",
              "      <th></th>\n",
              "      <th>Selling_Price</th>\n",
              "      <th>Present_Price</th>\n",
              "      <th>Kms_Driven</th>\n",
              "      <th>Fuel_Type</th>\n",
              "      <th>Seller_Type</th>\n",
              "      <th>Transmission</th>\n",
              "      <th>Owner</th>\n",
              "      <th>Years</th>\n",
              "    </tr>\n",
              "  </thead>\n",
              "  <tbody>\n",
              "    <tr>\n",
              "      <th>0</th>\n",
              "      <td>3.35</td>\n",
              "      <td>5.59</td>\n",
              "      <td>27000</td>\n",
              "      <td>Petrol</td>\n",
              "      <td>Dealer</td>\n",
              "      <td>Manual</td>\n",
              "      <td>0</td>\n",
              "      <td>7</td>\n",
              "    </tr>\n",
              "    <tr>\n",
              "      <th>1</th>\n",
              "      <td>4.75</td>\n",
              "      <td>9.54</td>\n",
              "      <td>43000</td>\n",
              "      <td>Diesel</td>\n",
              "      <td>Dealer</td>\n",
              "      <td>Manual</td>\n",
              "      <td>0</td>\n",
              "      <td>8</td>\n",
              "    </tr>\n",
              "    <tr>\n",
              "      <th>2</th>\n",
              "      <td>7.25</td>\n",
              "      <td>9.85</td>\n",
              "      <td>6900</td>\n",
              "      <td>Petrol</td>\n",
              "      <td>Dealer</td>\n",
              "      <td>Manual</td>\n",
              "      <td>0</td>\n",
              "      <td>4</td>\n",
              "    </tr>\n",
              "    <tr>\n",
              "      <th>3</th>\n",
              "      <td>2.85</td>\n",
              "      <td>4.15</td>\n",
              "      <td>5200</td>\n",
              "      <td>Petrol</td>\n",
              "      <td>Dealer</td>\n",
              "      <td>Manual</td>\n",
              "      <td>0</td>\n",
              "      <td>10</td>\n",
              "    </tr>\n",
              "    <tr>\n",
              "      <th>4</th>\n",
              "      <td>4.60</td>\n",
              "      <td>6.87</td>\n",
              "      <td>42450</td>\n",
              "      <td>Diesel</td>\n",
              "      <td>Dealer</td>\n",
              "      <td>Manual</td>\n",
              "      <td>0</td>\n",
              "      <td>7</td>\n",
              "    </tr>\n",
              "  </tbody>\n",
              "</table>\n",
              "</div>"
            ],
            "text/plain": [
              "   Selling_Price  Present_Price  Kms_Driven  ... Transmission Owner Years\n",
              "0           3.35           5.59       27000  ...       Manual     0     7\n",
              "1           4.75           9.54       43000  ...       Manual     0     8\n",
              "2           7.25           9.85        6900  ...       Manual     0     4\n",
              "3           2.85           4.15        5200  ...       Manual     0    10\n",
              "4           4.60           6.87       42450  ...       Manual     0     7\n",
              "\n",
              "[5 rows x 8 columns]"
            ]
          },
          "metadata": {},
          "execution_count": 9
        }
      ]
    },
    {
      "cell_type": "code",
      "metadata": {
        "id": "hoDz7DChO1fJ"
      },
      "source": [
        " from sklearn.preprocessing import OneHotEncoder,LabelEncoder"
      ],
      "execution_count": null,
      "outputs": []
    },
    {
      "cell_type": "code",
      "metadata": {
        "colab": {
          "base_uri": "https://localhost:8080/"
        },
        "id": "yHebfDj6O-Yh",
        "outputId": "b349eb07-c368-4c2e-c35d-c8e14f76c9e0"
      },
      "source": [
        "cat_var = [feature for feature in df.columns if df[feature].dtype == 'O']\n",
        "cat_var"
      ],
      "execution_count": null,
      "outputs": [
        {
          "output_type": "execute_result",
          "data": {
            "text/plain": [
              "['Fuel_Type', 'Seller_Type', 'Transmission']"
            ]
          },
          "metadata": {},
          "execution_count": 11
        }
      ]
    },
    {
      "cell_type": "code",
      "metadata": {
        "id": "dv1MIl8SWAa3"
      },
      "source": [
        "labelEncoder = LabelEncoder()"
      ],
      "execution_count": null,
      "outputs": []
    },
    {
      "cell_type": "code",
      "metadata": {
        "colab": {
          "base_uri": "https://localhost:8080/"
        },
        "id": "usBYCam8ZHC2",
        "outputId": "95e08e9c-787a-4123-fcd0-c10e105aaf05"
      },
      "source": [
        "df['Fuel_Type']"
      ],
      "execution_count": null,
      "outputs": [
        {
          "output_type": "execute_result",
          "data": {
            "text/plain": [
              "0      Petrol\n",
              "1      Diesel\n",
              "2      Petrol\n",
              "3      Petrol\n",
              "4      Diesel\n",
              "        ...  \n",
              "296    Diesel\n",
              "297    Petrol\n",
              "298    Petrol\n",
              "299    Diesel\n",
              "300    Petrol\n",
              "Name: Fuel_Type, Length: 301, dtype: object"
            ]
          },
          "metadata": {},
          "execution_count": 13
        }
      ]
    },
    {
      "cell_type": "code",
      "metadata": {
        "colab": {
          "base_uri": "https://localhost:8080/",
          "height": 206
        },
        "id": "Q86boD69WQdv",
        "outputId": "011f00cf-c5c6-4e50-a823-5f150f1fdc5f"
      },
      "source": [
        "df['Fuel_Type'] = labelEncoder.fit_transform(df['Fuel_Type'])\n",
        "df.head()"
      ],
      "execution_count": null,
      "outputs": [
        {
          "output_type": "execute_result",
          "data": {
            "text/html": [
              "<div>\n",
              "<style scoped>\n",
              "    .dataframe tbody tr th:only-of-type {\n",
              "        vertical-align: middle;\n",
              "    }\n",
              "\n",
              "    .dataframe tbody tr th {\n",
              "        vertical-align: top;\n",
              "    }\n",
              "\n",
              "    .dataframe thead th {\n",
              "        text-align: right;\n",
              "    }\n",
              "</style>\n",
              "<table border=\"1\" class=\"dataframe\">\n",
              "  <thead>\n",
              "    <tr style=\"text-align: right;\">\n",
              "      <th></th>\n",
              "      <th>Selling_Price</th>\n",
              "      <th>Present_Price</th>\n",
              "      <th>Kms_Driven</th>\n",
              "      <th>Fuel_Type</th>\n",
              "      <th>Seller_Type</th>\n",
              "      <th>Transmission</th>\n",
              "      <th>Owner</th>\n",
              "      <th>Years</th>\n",
              "    </tr>\n",
              "  </thead>\n",
              "  <tbody>\n",
              "    <tr>\n",
              "      <th>0</th>\n",
              "      <td>3.35</td>\n",
              "      <td>5.59</td>\n",
              "      <td>27000</td>\n",
              "      <td>2</td>\n",
              "      <td>Dealer</td>\n",
              "      <td>Manual</td>\n",
              "      <td>0</td>\n",
              "      <td>7</td>\n",
              "    </tr>\n",
              "    <tr>\n",
              "      <th>1</th>\n",
              "      <td>4.75</td>\n",
              "      <td>9.54</td>\n",
              "      <td>43000</td>\n",
              "      <td>1</td>\n",
              "      <td>Dealer</td>\n",
              "      <td>Manual</td>\n",
              "      <td>0</td>\n",
              "      <td>8</td>\n",
              "    </tr>\n",
              "    <tr>\n",
              "      <th>2</th>\n",
              "      <td>7.25</td>\n",
              "      <td>9.85</td>\n",
              "      <td>6900</td>\n",
              "      <td>2</td>\n",
              "      <td>Dealer</td>\n",
              "      <td>Manual</td>\n",
              "      <td>0</td>\n",
              "      <td>4</td>\n",
              "    </tr>\n",
              "    <tr>\n",
              "      <th>3</th>\n",
              "      <td>2.85</td>\n",
              "      <td>4.15</td>\n",
              "      <td>5200</td>\n",
              "      <td>2</td>\n",
              "      <td>Dealer</td>\n",
              "      <td>Manual</td>\n",
              "      <td>0</td>\n",
              "      <td>10</td>\n",
              "    </tr>\n",
              "    <tr>\n",
              "      <th>4</th>\n",
              "      <td>4.60</td>\n",
              "      <td>6.87</td>\n",
              "      <td>42450</td>\n",
              "      <td>1</td>\n",
              "      <td>Dealer</td>\n",
              "      <td>Manual</td>\n",
              "      <td>0</td>\n",
              "      <td>7</td>\n",
              "    </tr>\n",
              "  </tbody>\n",
              "</table>\n",
              "</div>"
            ],
            "text/plain": [
              "   Selling_Price  Present_Price  Kms_Driven  ...  Transmission Owner Years\n",
              "0           3.35           5.59       27000  ...        Manual     0     7\n",
              "1           4.75           9.54       43000  ...        Manual     0     8\n",
              "2           7.25           9.85        6900  ...        Manual     0     4\n",
              "3           2.85           4.15        5200  ...        Manual     0    10\n",
              "4           4.60           6.87       42450  ...        Manual     0     7\n",
              "\n",
              "[5 rows x 8 columns]"
            ]
          },
          "metadata": {},
          "execution_count": 14
        }
      ]
    },
    {
      "cell_type": "code",
      "metadata": {
        "colab": {
          "base_uri": "https://localhost:8080/",
          "height": 206
        },
        "id": "GlFwbvkRRRei",
        "outputId": "aa8f33bd-d2c5-4022-9d50-28dfc332c627"
      },
      "source": [
        "df = pd.get_dummies(df, drop_first=True)\n",
        "df.head()"
      ],
      "execution_count": null,
      "outputs": [
        {
          "output_type": "execute_result",
          "data": {
            "text/html": [
              "<div>\n",
              "<style scoped>\n",
              "    .dataframe tbody tr th:only-of-type {\n",
              "        vertical-align: middle;\n",
              "    }\n",
              "\n",
              "    .dataframe tbody tr th {\n",
              "        vertical-align: top;\n",
              "    }\n",
              "\n",
              "    .dataframe thead th {\n",
              "        text-align: right;\n",
              "    }\n",
              "</style>\n",
              "<table border=\"1\" class=\"dataframe\">\n",
              "  <thead>\n",
              "    <tr style=\"text-align: right;\">\n",
              "      <th></th>\n",
              "      <th>Selling_Price</th>\n",
              "      <th>Present_Price</th>\n",
              "      <th>Kms_Driven</th>\n",
              "      <th>Fuel_Type</th>\n",
              "      <th>Owner</th>\n",
              "      <th>Years</th>\n",
              "      <th>Seller_Type_Individual</th>\n",
              "      <th>Transmission_Manual</th>\n",
              "    </tr>\n",
              "  </thead>\n",
              "  <tbody>\n",
              "    <tr>\n",
              "      <th>0</th>\n",
              "      <td>3.35</td>\n",
              "      <td>5.59</td>\n",
              "      <td>27000</td>\n",
              "      <td>2</td>\n",
              "      <td>0</td>\n",
              "      <td>7</td>\n",
              "      <td>0</td>\n",
              "      <td>1</td>\n",
              "    </tr>\n",
              "    <tr>\n",
              "      <th>1</th>\n",
              "      <td>4.75</td>\n",
              "      <td>9.54</td>\n",
              "      <td>43000</td>\n",
              "      <td>1</td>\n",
              "      <td>0</td>\n",
              "      <td>8</td>\n",
              "      <td>0</td>\n",
              "      <td>1</td>\n",
              "    </tr>\n",
              "    <tr>\n",
              "      <th>2</th>\n",
              "      <td>7.25</td>\n",
              "      <td>9.85</td>\n",
              "      <td>6900</td>\n",
              "      <td>2</td>\n",
              "      <td>0</td>\n",
              "      <td>4</td>\n",
              "      <td>0</td>\n",
              "      <td>1</td>\n",
              "    </tr>\n",
              "    <tr>\n",
              "      <th>3</th>\n",
              "      <td>2.85</td>\n",
              "      <td>4.15</td>\n",
              "      <td>5200</td>\n",
              "      <td>2</td>\n",
              "      <td>0</td>\n",
              "      <td>10</td>\n",
              "      <td>0</td>\n",
              "      <td>1</td>\n",
              "    </tr>\n",
              "    <tr>\n",
              "      <th>4</th>\n",
              "      <td>4.60</td>\n",
              "      <td>6.87</td>\n",
              "      <td>42450</td>\n",
              "      <td>1</td>\n",
              "      <td>0</td>\n",
              "      <td>7</td>\n",
              "      <td>0</td>\n",
              "      <td>1</td>\n",
              "    </tr>\n",
              "  </tbody>\n",
              "</table>\n",
              "</div>"
            ],
            "text/plain": [
              "   Selling_Price  Present_Price  ...  Seller_Type_Individual  Transmission_Manual\n",
              "0           3.35           5.59  ...                       0                    1\n",
              "1           4.75           9.54  ...                       0                    1\n",
              "2           7.25           9.85  ...                       0                    1\n",
              "3           2.85           4.15  ...                       0                    1\n",
              "4           4.60           6.87  ...                       0                    1\n",
              "\n",
              "[5 rows x 8 columns]"
            ]
          },
          "metadata": {},
          "execution_count": 15
        }
      ]
    },
    {
      "cell_type": "code",
      "metadata": {
        "id": "ZNSGbtrtuvmY"
      },
      "source": [
        "from sklearn.feature_selection import mutual_info_regression"
      ],
      "execution_count": null,
      "outputs": []
    },
    {
      "cell_type": "code",
      "metadata": {
        "id": "b9quc61TOsen"
      },
      "source": [
        "from sklearn.model_selection import train_test_split"
      ],
      "execution_count": null,
      "outputs": []
    },
    {
      "cell_type": "markdown",
      "source": [
        "Splitting dependent and independent variable\n"
      ],
      "metadata": {
        "id": "mQbT-65b_O9e"
      }
    },
    {
      "cell_type": "code",
      "metadata": {
        "id": "B7WA0MggQihu"
      },
      "source": [
        "X = df.drop('Selling_Price' ,axis = 1)\n",
        "Y = df['Selling_Price']"
      ],
      "execution_count": null,
      "outputs": []
    },
    {
      "cell_type": "markdown",
      "source": [
        "Train test split"
      ],
      "metadata": {
        "id": "VFlV8vW5_ZPu"
      }
    },
    {
      "cell_type": "code",
      "metadata": {
        "id": "qhg1WNfnQ_nZ"
      },
      "source": [
        "x_train,x_test,y_train,y_test = train_test_split(X,Y , test_size=0.2, random_state=0)"
      ],
      "execution_count": null,
      "outputs": []
    },
    {
      "cell_type": "markdown",
      "source": [
        "#**Feature Selection**"
      ],
      "metadata": {
        "id": "TTBVknz__gP1"
      }
    },
    {
      "cell_type": "markdown",
      "source": [
        "Feature imporetance"
      ],
      "metadata": {
        "id": "Kn7GLRi0_oPP"
      }
    },
    {
      "cell_type": "code",
      "metadata": {
        "id": "_irNHx68OkCR"
      },
      "source": [
        "mutual_info = mutual_info_regression(X,Y)"
      ],
      "execution_count": null,
      "outputs": []
    },
    {
      "cell_type": "code",
      "metadata": {
        "id": "7sM1a98SSo9h"
      },
      "source": [
        "mutual_data = pd.Series(mutual_info , index= X.columns )\n",
        "important_feature_weight = mutual_data.sort_values(ascending = False)"
      ],
      "execution_count": null,
      "outputs": []
    },
    {
      "cell_type": "code",
      "metadata": {
        "colab": {
          "base_uri": "https://localhost:8080/"
        },
        "id": "M8ex42GuWYgc",
        "outputId": "4c034f94-316c-4f66-a227-2d6286aac4e2"
      },
      "source": [
        "important_feature_weight"
      ],
      "execution_count": null,
      "outputs": [
        {
          "output_type": "execute_result",
          "data": {
            "text/plain": [
              "Present_Price             1.294932\n",
              "Seller_Type_Individual    0.535973\n",
              "Years                     0.255548\n",
              "Kms_Driven                0.162154\n",
              "Fuel_Type                 0.157923\n",
              "Transmission_Manual       0.056343\n",
              "Owner                     0.033452\n",
              "dtype: float64"
            ]
          },
          "metadata": {},
          "execution_count": 22
        }
      ]
    },
    {
      "cell_type": "markdown",
      "source": [
        "We can drop owner and Transmission_Manual       "
      ],
      "metadata": {
        "id": "fRahFZFi_ruT"
      }
    },
    {
      "cell_type": "code",
      "metadata": {
        "colab": {
          "base_uri": "https://localhost:8080/",
          "height": 206
        },
        "id": "vgicxO8kWs7I",
        "outputId": "fc65f96b-0b73-47e8-a117-6d98accc3859"
      },
      "source": [
        "df.head()"
      ],
      "execution_count": null,
      "outputs": [
        {
          "output_type": "execute_result",
          "data": {
            "text/html": [
              "<div>\n",
              "<style scoped>\n",
              "    .dataframe tbody tr th:only-of-type {\n",
              "        vertical-align: middle;\n",
              "    }\n",
              "\n",
              "    .dataframe tbody tr th {\n",
              "        vertical-align: top;\n",
              "    }\n",
              "\n",
              "    .dataframe thead th {\n",
              "        text-align: right;\n",
              "    }\n",
              "</style>\n",
              "<table border=\"1\" class=\"dataframe\">\n",
              "  <thead>\n",
              "    <tr style=\"text-align: right;\">\n",
              "      <th></th>\n",
              "      <th>Selling_Price</th>\n",
              "      <th>Present_Price</th>\n",
              "      <th>Kms_Driven</th>\n",
              "      <th>Fuel_Type</th>\n",
              "      <th>Owner</th>\n",
              "      <th>Years</th>\n",
              "      <th>Seller_Type_Individual</th>\n",
              "      <th>Transmission_Manual</th>\n",
              "    </tr>\n",
              "  </thead>\n",
              "  <tbody>\n",
              "    <tr>\n",
              "      <th>0</th>\n",
              "      <td>3.35</td>\n",
              "      <td>5.59</td>\n",
              "      <td>27000</td>\n",
              "      <td>2</td>\n",
              "      <td>0</td>\n",
              "      <td>7</td>\n",
              "      <td>0</td>\n",
              "      <td>1</td>\n",
              "    </tr>\n",
              "    <tr>\n",
              "      <th>1</th>\n",
              "      <td>4.75</td>\n",
              "      <td>9.54</td>\n",
              "      <td>43000</td>\n",
              "      <td>1</td>\n",
              "      <td>0</td>\n",
              "      <td>8</td>\n",
              "      <td>0</td>\n",
              "      <td>1</td>\n",
              "    </tr>\n",
              "    <tr>\n",
              "      <th>2</th>\n",
              "      <td>7.25</td>\n",
              "      <td>9.85</td>\n",
              "      <td>6900</td>\n",
              "      <td>2</td>\n",
              "      <td>0</td>\n",
              "      <td>4</td>\n",
              "      <td>0</td>\n",
              "      <td>1</td>\n",
              "    </tr>\n",
              "    <tr>\n",
              "      <th>3</th>\n",
              "      <td>2.85</td>\n",
              "      <td>4.15</td>\n",
              "      <td>5200</td>\n",
              "      <td>2</td>\n",
              "      <td>0</td>\n",
              "      <td>10</td>\n",
              "      <td>0</td>\n",
              "      <td>1</td>\n",
              "    </tr>\n",
              "    <tr>\n",
              "      <th>4</th>\n",
              "      <td>4.60</td>\n",
              "      <td>6.87</td>\n",
              "      <td>42450</td>\n",
              "      <td>1</td>\n",
              "      <td>0</td>\n",
              "      <td>7</td>\n",
              "      <td>0</td>\n",
              "      <td>1</td>\n",
              "    </tr>\n",
              "  </tbody>\n",
              "</table>\n",
              "</div>"
            ],
            "text/plain": [
              "   Selling_Price  Present_Price  ...  Seller_Type_Individual  Transmission_Manual\n",
              "0           3.35           5.59  ...                       0                    1\n",
              "1           4.75           9.54  ...                       0                    1\n",
              "2           7.25           9.85  ...                       0                    1\n",
              "3           2.85           4.15  ...                       0                    1\n",
              "4           4.60           6.87  ...                       0                    1\n",
              "\n",
              "[5 rows x 8 columns]"
            ]
          },
          "metadata": {},
          "execution_count": 23
        }
      ]
    },
    {
      "cell_type": "code",
      "metadata": {
        "id": "5sq6aYksYN2q"
      },
      "source": [
        "X = df.drop('Selling_Price' ,axis = 1)\n",
        "Y = df.iloc[: , 0]"
      ],
      "execution_count": null,
      "outputs": []
    },
    {
      "cell_type": "code",
      "metadata": {
        "id": "p8PRf4X9YUO0"
      },
      "source": [
        "x_train,x_test,y_train,y_test = train_test_split(X.values,Y.values , test_size=0.2, random_state=0)"
      ],
      "execution_count": null,
      "outputs": []
    },
    {
      "cell_type": "code",
      "metadata": {
        "colab": {
          "base_uri": "https://localhost:8080/"
        },
        "id": "dz8jSjW5YXjK",
        "outputId": "18b0ebe5-10c0-4682-ad6e-b895e6501575"
      },
      "source": [
        "print(x_train.shape ,\",\" , x_test.shape , ',' , y_train.shape, ',' , y_test.shape)"
      ],
      "execution_count": null,
      "outputs": [
        {
          "output_type": "stream",
          "name": "stdout",
          "text": [
            "(240, 7) , (61, 7) , (240,) , (61,)\n"
          ]
        }
      ]
    },
    {
      "cell_type": "code",
      "metadata": {
        "colab": {
          "base_uri": "https://localhost:8080/"
        },
        "id": "AsYNv_G-Yqoy",
        "outputId": "407ae493-3aba-4e6c-eb0f-ce0ca8150fb2"
      },
      "source": [
        "df.shape"
      ],
      "execution_count": null,
      "outputs": [
        {
          "output_type": "execute_result",
          "data": {
            "text/plain": [
              "(301, 8)"
            ]
          },
          "metadata": {},
          "execution_count": 27
        }
      ]
    },
    {
      "cell_type": "code",
      "metadata": {
        "colab": {
          "base_uri": "https://localhost:8080/"
        },
        "id": "YgjaljEp2jht",
        "outputId": "351e3b51-fb9f-48b4-bef5-551c51410fd4"
      },
      "source": [
        "!pip install optuna"
      ],
      "execution_count": null,
      "outputs": [
        {
          "output_type": "stream",
          "name": "stdout",
          "text": [
            "Collecting optuna\n",
            "  Downloading optuna-2.10.0-py3-none-any.whl (308 kB)\n",
            "\u001b[K     |████████████████████████████████| 308 kB 5.8 MB/s \n",
            "\u001b[?25hCollecting alembic\n",
            "  Downloading alembic-1.7.5-py3-none-any.whl (209 kB)\n",
            "\u001b[K     |████████████████████████████████| 209 kB 62.2 MB/s \n",
            "\u001b[?25hRequirement already satisfied: tqdm in /usr/local/lib/python3.7/dist-packages (from optuna) (4.62.3)\n",
            "Requirement already satisfied: packaging>=20.0 in /usr/local/lib/python3.7/dist-packages (from optuna) (21.3)\n",
            "Collecting colorlog\n",
            "  Downloading colorlog-6.6.0-py2.py3-none-any.whl (11 kB)\n",
            "Requirement already satisfied: scipy!=1.4.0 in /usr/local/lib/python3.7/dist-packages (from optuna) (1.4.1)\n",
            "Requirement already satisfied: PyYAML in /usr/local/lib/python3.7/dist-packages (from optuna) (3.13)\n",
            "Requirement already satisfied: sqlalchemy>=1.1.0 in /usr/local/lib/python3.7/dist-packages (from optuna) (1.4.27)\n",
            "Requirement already satisfied: numpy in /usr/local/lib/python3.7/dist-packages (from optuna) (1.19.5)\n",
            "Collecting cmaes>=0.8.2\n",
            "  Downloading cmaes-0.8.2-py3-none-any.whl (15 kB)\n",
            "Collecting cliff\n",
            "  Downloading cliff-3.10.0-py3-none-any.whl (80 kB)\n",
            "\u001b[K     |████████████████████████████████| 80 kB 6.7 MB/s \n",
            "\u001b[?25hRequirement already satisfied: pyparsing!=3.0.5,>=2.0.2 in /usr/local/lib/python3.7/dist-packages (from packaging>=20.0->optuna) (3.0.6)\n",
            "Requirement already satisfied: importlib-metadata in /usr/local/lib/python3.7/dist-packages (from sqlalchemy>=1.1.0->optuna) (4.8.2)\n",
            "Requirement already satisfied: greenlet!=0.4.17 in /usr/local/lib/python3.7/dist-packages (from sqlalchemy>=1.1.0->optuna) (1.1.2)\n",
            "Requirement already satisfied: importlib-resources in /usr/local/lib/python3.7/dist-packages (from alembic->optuna) (5.4.0)\n",
            "Collecting Mako\n",
            "  Downloading Mako-1.1.6-py2.py3-none-any.whl (75 kB)\n",
            "\u001b[K     |████████████████████████████████| 75 kB 4.0 MB/s \n",
            "\u001b[?25hCollecting autopage>=0.4.0\n",
            "  Downloading autopage-0.4.0-py3-none-any.whl (20 kB)\n",
            "Collecting cmd2>=1.0.0\n",
            "  Downloading cmd2-2.3.3-py3-none-any.whl (149 kB)\n",
            "\u001b[K     |████████████████████████████████| 149 kB 43.2 MB/s \n",
            "\u001b[?25hCollecting stevedore>=2.0.1\n",
            "  Downloading stevedore-3.5.0-py3-none-any.whl (49 kB)\n",
            "\u001b[K     |████████████████████████████████| 49 kB 5.3 MB/s \n",
            "\u001b[?25hCollecting pbr!=2.1.0,>=2.0.0\n",
            "  Downloading pbr-5.8.0-py2.py3-none-any.whl (112 kB)\n",
            "\u001b[K     |████████████████████████████████| 112 kB 53.6 MB/s \n",
            "\u001b[?25hRequirement already satisfied: PrettyTable>=0.7.2 in /usr/local/lib/python3.7/dist-packages (from cliff->optuna) (2.4.0)\n",
            "Requirement already satisfied: wcwidth>=0.1.7 in /usr/local/lib/python3.7/dist-packages (from cmd2>=1.0.0->cliff->optuna) (0.2.5)\n",
            "Requirement already satisfied: attrs>=16.3.0 in /usr/local/lib/python3.7/dist-packages (from cmd2>=1.0.0->cliff->optuna) (21.2.0)\n",
            "Collecting pyperclip>=1.6\n",
            "  Downloading pyperclip-1.8.2.tar.gz (20 kB)\n",
            "Requirement already satisfied: typing-extensions in /usr/local/lib/python3.7/dist-packages (from cmd2>=1.0.0->cliff->optuna) (3.10.0.2)\n",
            "Requirement already satisfied: zipp>=0.5 in /usr/local/lib/python3.7/dist-packages (from importlib-metadata->sqlalchemy>=1.1.0->optuna) (3.6.0)\n",
            "Requirement already satisfied: MarkupSafe>=0.9.2 in /usr/local/lib/python3.7/dist-packages (from Mako->alembic->optuna) (2.0.1)\n",
            "Building wheels for collected packages: pyperclip\n",
            "  Building wheel for pyperclip (setup.py) ... \u001b[?25l\u001b[?25hdone\n",
            "  Created wheel for pyperclip: filename=pyperclip-1.8.2-py3-none-any.whl size=11136 sha256=d166a2bc70accc47811d5d452b6bb34a4a74bd24a92849a9868ee57a64a7d5b6\n",
            "  Stored in directory: /root/.cache/pip/wheels/9f/18/84/8f69f8b08169c7bae2dde6bd7daf0c19fca8c8e500ee620a28\n",
            "Successfully built pyperclip\n",
            "Installing collected packages: pyperclip, pbr, stevedore, Mako, cmd2, autopage, colorlog, cmaes, cliff, alembic, optuna\n",
            "Successfully installed Mako-1.1.6 alembic-1.7.5 autopage-0.4.0 cliff-3.10.0 cmaes-0.8.2 cmd2-2.3.3 colorlog-6.6.0 optuna-2.10.0 pbr-5.8.0 pyperclip-1.8.2 stevedore-3.5.0\n"
          ]
        }
      ]
    },
    {
      "cell_type": "code",
      "metadata": {
        "id": "IqPV2sSaZCLZ"
      },
      "source": [
        "import optuna\n",
        "import sklearn.svm\n",
        "from sklearn.ensemble import RandomForestRegressor\n",
        "from xgboost import XGBRegressor\n"
      ],
      "execution_count": null,
      "outputs": []
    },
    {
      "cell_type": "markdown",
      "source": [
        "#**Hyper parameter tunning optimization**"
      ],
      "metadata": {
        "id": "BEQHYK6b-7eN"
      }
    },
    {
      "cell_type": "markdown",
      "metadata": {
        "id": "Gs8DXHKXrs_P"
      },
      "source": [
        "**Optuna**"
      ]
    },
    {
      "cell_type": "code",
      "metadata": {
        "id": "fLU11QYz2f8T"
      },
      "source": [
        "def get_best_model():\n",
        "\n",
        "    def RF_objective(RF_trial):\n",
        "    # Regressor = trial.suggest_categorical('Regressor', ['RandomForest', 'XGBoost'])   \n",
        "    # if Regressor == 'RandomForest':\n",
        "        RF_params = {\n",
        "            'n_estimators'      : RF_trial.suggest_int('n_estimators', 200, 2000,10),\n",
        "            'max_features'      : RF_trial.suggest_categorical('max_features' , [\"auto\", \"sqrt\",\"log2\"]),\n",
        "            'max_depth'         : int(RF_trial.suggest_float('max_depth', 10, 100, log=True)),\n",
        "            'min_samples_split' : RF_trial.suggest_int('min_samples_split' ,2,14,1),\n",
        "            'min_samples_leaf'  : RF_trial.suggest_int('min_samples_leaf' , 1,10,1),\n",
        "            'criterion'         : RF_trial.suggest_categorical('criterion',[\"squared_error\", \"absolute_error\", \"poisson\"]),\n",
        "        }\n",
        "\n",
        "        RF_Reg = sklearn.ensemble.RandomForestRegressor(**RF_params)\n",
        "\n",
        "        return sklearn.model_selection.cross_val_score(RF_Reg, x_train, y_train, n_jobs=-1, cv=3).mean()\n",
        "\n",
        "    \n",
        "\n",
        "    def XGB_objectives(XGB_trial):\n",
        "        XGB_params = {\n",
        "            'n_estimators'     : XGB_trial.suggest_int('n_estimators', 0, 1000,10),\n",
        "            'max_depth'        : XGB_trial.suggest_int('max_depth', 2, 25),\n",
        "            'reg_alpha'        : XGB_trial.suggest_int('reg_alpha', 0, 5),\n",
        "            'reg_lambda'       : XGB_trial.suggest_int('reg_lambda', 0, 5),\n",
        "            'min_child_weight' : XGB_trial.suggest_int('min_child_weight', 0, 5),\n",
        "            'gamma'            : XGB_trial.suggest_int('gamma', 0, 5),\n",
        "            'learning_rate'    : XGB_trial.suggest_loguniform('learning_rate',0.005,0.5),\n",
        "            'colsample_bytree' : XGB_trial.suggest_discrete_uniform('colsample_bytree',0.1,1,0.01),\n",
        "            'nthread'          : -1\n",
        "        }\n",
        "        XGB_Reg = XGBRegressor(**XGB_params)\n",
        "        \n",
        "        return sklearn.model_selection.cross_val_score(XGB_Reg, x_train, y_train, n_jobs=-1, cv=3).mean()\n",
        "\n",
        "\n",
        "    study = optuna.create_study(direction='maximize')\n",
        "    study.optimize(RF_objective, n_trials=100)\n",
        "    RF_trial = study.best_trial\n",
        "   \n",
        "    study = optuna.create_study(direction='maximize')\n",
        "    study.optimize(XGB_objectives, n_trials=100)\n",
        "    XGB_trial = study.best_trial\n",
        "\n",
        "\n",
        "    print('Random forest Regressor')\n",
        "    print('Accuracy: {}'.format(RF_trial .value))\n",
        "    print(\"Best hyperparameters: {}\".format(RF_trial .params))\n",
        "    print(\"-------------\")\n",
        "    print('XGB Regressor')\n",
        "    print('Accuracy: {}'.format(XGB_trial.value))\n",
        "    print(\"Best hyperparameters: {}\".format(XGB_trial.params))\n",
        "\n"
      ],
      "execution_count": null,
      "outputs": []
    },
    {
      "cell_type": "code",
      "metadata": {
        "id": "G6Vvtnf0nj59",
        "colab": {
          "base_uri": "https://localhost:8080/"
        },
        "outputId": "57b7e3f6-bc84-44bd-d7b6-8b9552f1e444"
      },
      "source": [
        "get_best_model()"
      ],
      "execution_count": null,
      "outputs": [
        {
          "output_type": "stream",
          "name": "stderr",
          "text": [
            "\u001b[32m[I 2021-12-11 05:24:35,350]\u001b[0m A new study created in memory with name: no-name-0373a3dc-dd72-43aa-a5c4-decb693ccfbe\u001b[0m\n",
            "\u001b[32m[I 2021-12-11 05:24:38,448]\u001b[0m Trial 0 finished with value: 0.7230345091885456 and parameters: {'n_estimators': 440, 'max_features': 'auto', 'max_depth': 79.05553055484796, 'min_samples_split': 6, 'min_samples_leaf': 7, 'criterion': 'poisson'}. Best is trial 0 with value: 0.7230345091885456.\u001b[0m\n",
            "\u001b[32m[I 2021-12-11 05:24:40,470]\u001b[0m Trial 1 finished with value: 0.7826726688027287 and parameters: {'n_estimators': 540, 'max_features': 'sqrt', 'max_depth': 47.72633699707709, 'min_samples_split': 4, 'min_samples_leaf': 3, 'criterion': 'squared_error'}. Best is trial 1 with value: 0.7826726688027287.\u001b[0m\n",
            "\u001b[32m[I 2021-12-11 05:24:44,126]\u001b[0m Trial 2 finished with value: 0.5702367915050234 and parameters: {'n_estimators': 960, 'max_features': 'log2', 'max_depth': 73.77221700700133, 'min_samples_split': 4, 'min_samples_leaf': 10, 'criterion': 'poisson'}. Best is trial 1 with value: 0.7826726688027287.\u001b[0m\n",
            "\u001b[32m[I 2021-12-11 05:24:45,715]\u001b[0m Trial 3 finished with value: 0.7221291293145496 and parameters: {'n_estimators': 410, 'max_features': 'log2', 'max_depth': 27.692448580095686, 'min_samples_split': 8, 'min_samples_leaf': 3, 'criterion': 'poisson'}. Best is trial 1 with value: 0.7826726688027287.\u001b[0m\n",
            "\u001b[32m[I 2021-12-11 05:24:54,054]\u001b[0m Trial 4 finished with value: 0.5776803251850359 and parameters: {'n_estimators': 1970, 'max_features': 'log2', 'max_depth': 12.900576653096696, 'min_samples_split': 12, 'min_samples_leaf': 7, 'criterion': 'absolute_error'}. Best is trial 1 with value: 0.7826726688027287.\u001b[0m\n",
            "\u001b[32m[I 2021-12-11 05:24:57,027]\u001b[0m Trial 5 finished with value: 0.7073699893208859 and parameters: {'n_estimators': 620, 'max_features': 'auto', 'max_depth': 34.26655195400367, 'min_samples_split': 11, 'min_samples_leaf': 9, 'criterion': 'absolute_error'}. Best is trial 1 with value: 0.7826726688027287.\u001b[0m\n",
            "\u001b[32m[I 2021-12-11 05:24:58,066]\u001b[0m Trial 6 finished with value: 0.7161313980549119 and parameters: {'n_estimators': 290, 'max_features': 'log2', 'max_depth': 18.329716612801302, 'min_samples_split': 14, 'min_samples_leaf': 5, 'criterion': 'squared_error'}. Best is trial 1 with value: 0.7826726688027287.\u001b[0m\n",
            "\u001b[32m[I 2021-12-11 05:25:03,595]\u001b[0m Trial 7 finished with value: 0.7802365378101893 and parameters: {'n_estimators': 1430, 'max_features': 'auto', 'max_depth': 15.134430204591963, 'min_samples_split': 3, 'min_samples_leaf': 7, 'criterion': 'squared_error'}. Best is trial 1 with value: 0.7826726688027287.\u001b[0m\n",
            "\u001b[32m[I 2021-12-11 05:25:10,501]\u001b[0m Trial 8 finished with value: 0.7248127725432485 and parameters: {'n_estimators': 1660, 'max_features': 'auto', 'max_depth': 16.201100460862122, 'min_samples_split': 4, 'min_samples_leaf': 7, 'criterion': 'poisson'}. Best is trial 1 with value: 0.7826726688027287.\u001b[0m\n",
            "\u001b[32m[I 2021-12-11 05:25:17,858]\u001b[0m Trial 9 finished with value: 0.80997941196221 and parameters: {'n_estimators': 1910, 'max_features': 'auto', 'max_depth': 35.476310949133634, 'min_samples_split': 3, 'min_samples_leaf': 5, 'criterion': 'squared_error'}. Best is trial 9 with value: 0.80997941196221.\u001b[0m\n",
            "\u001b[32m[I 2021-12-11 05:25:22,292]\u001b[0m Trial 10 finished with value: 0.8106316740523835 and parameters: {'n_estimators': 1200, 'max_features': 'sqrt', 'max_depth': 46.872714681250514, 'min_samples_split': 2, 'min_samples_leaf': 2, 'criterion': 'squared_error'}. Best is trial 10 with value: 0.8106316740523835.\u001b[0m\n",
            "\u001b[32m[I 2021-12-11 05:25:26,741]\u001b[0m Trial 11 finished with value: 0.8433987391389496 and parameters: {'n_estimators': 1170, 'max_features': 'sqrt', 'max_depth': 46.13247211535628, 'min_samples_split': 2, 'min_samples_leaf': 1, 'criterion': 'squared_error'}. Best is trial 11 with value: 0.8433987391389496.\u001b[0m\n",
            "\u001b[32m[I 2021-12-11 05:25:30,991]\u001b[0m Trial 12 finished with value: 0.8402974849302134 and parameters: {'n_estimators': 1100, 'max_features': 'sqrt', 'max_depth': 50.92908500834109, 'min_samples_split': 2, 'min_samples_leaf': 1, 'criterion': 'squared_error'}. Best is trial 11 with value: 0.8433987391389496.\u001b[0m\n",
            "\u001b[32m[I 2021-12-11 05:25:34,813]\u001b[0m Trial 13 finished with value: 0.81426426401369 and parameters: {'n_estimators': 990, 'max_features': 'sqrt', 'max_depth': 55.28467484996841, 'min_samples_split': 7, 'min_samples_leaf': 1, 'criterion': 'squared_error'}. Best is trial 11 with value: 0.8433987391389496.\u001b[0m\n",
            "\u001b[32m[I 2021-12-11 05:25:39,479]\u001b[0m Trial 14 finished with value: 0.820119856740293 and parameters: {'n_estimators': 1250, 'max_features': 'sqrt', 'max_depth': 94.71247298239452, 'min_samples_split': 6, 'min_samples_leaf': 1, 'criterion': 'squared_error'}. Best is trial 11 with value: 0.8433987391389496.\u001b[0m\n",
            "\u001b[32m[I 2021-12-11 05:25:42,379]\u001b[0m Trial 15 finished with value: 0.7858689643225087 and parameters: {'n_estimators': 790, 'max_features': 'sqrt', 'max_depth': 24.691312280629116, 'min_samples_split': 2, 'min_samples_leaf': 3, 'criterion': 'squared_error'}. Best is trial 11 with value: 0.8433987391389496.\u001b[0m\n",
            "\u001b[32m[I 2021-12-11 05:25:49,122]\u001b[0m Trial 16 finished with value: 0.7648645399217665 and parameters: {'n_estimators': 1470, 'max_features': 'sqrt', 'max_depth': 59.66002563588621, 'min_samples_split': 10, 'min_samples_leaf': 1, 'criterion': 'absolute_error'}. Best is trial 11 with value: 0.8433987391389496.\u001b[0m\n",
            "\u001b[32m[I 2021-12-11 05:25:52,102]\u001b[0m Trial 17 finished with value: 0.7561242702344679 and parameters: {'n_estimators': 810, 'max_features': 'sqrt', 'max_depth': 40.639194855048096, 'min_samples_split': 6, 'min_samples_leaf': 4, 'criterion': 'squared_error'}. Best is trial 11 with value: 0.8433987391389496.\u001b[0m\n",
            "\u001b[32m[I 2021-12-11 05:25:57,224]\u001b[0m Trial 18 finished with value: 0.810530462988199 and parameters: {'n_estimators': 1370, 'max_features': 'sqrt', 'max_depth': 24.017711930499903, 'min_samples_split': 5, 'min_samples_leaf': 2, 'criterion': 'squared_error'}. Best is trial 11 with value: 0.8433987391389496.\u001b[0m\n",
            "\u001b[32m[I 2021-12-11 05:26:02,364]\u001b[0m Trial 19 finished with value: 0.7421384967526619 and parameters: {'n_estimators': 1090, 'max_features': 'sqrt', 'max_depth': 60.200836717366045, 'min_samples_split': 9, 'min_samples_leaf': 2, 'criterion': 'absolute_error'}. Best is trial 11 with value: 0.8433987391389496.\u001b[0m\n",
            "\u001b[32m[I 2021-12-11 05:26:08,556]\u001b[0m Trial 20 finished with value: 0.765286058835103 and parameters: {'n_estimators': 1720, 'max_features': 'sqrt', 'max_depth': 72.27838147963342, 'min_samples_split': 2, 'min_samples_leaf': 4, 'criterion': 'squared_error'}. Best is trial 11 with value: 0.8433987391389496.\u001b[0m\n",
            "\u001b[32m[I 2021-12-11 05:26:13,313]\u001b[0m Trial 21 finished with value: 0.8270429717385306 and parameters: {'n_estimators': 1260, 'max_features': 'sqrt', 'max_depth': 78.57493251352788, 'min_samples_split': 5, 'min_samples_leaf': 1, 'criterion': 'squared_error'}. Best is trial 11 with value: 0.8433987391389496.\u001b[0m\n",
            "\u001b[32m[I 2021-12-11 05:26:18,023]\u001b[0m Trial 22 finished with value: 0.8384122506497936 and parameters: {'n_estimators': 1270, 'max_features': 'sqrt', 'max_depth': 86.03817637169094, 'min_samples_split': 3, 'min_samples_leaf': 1, 'criterion': 'squared_error'}. Best is trial 11 with value: 0.8433987391389496.\u001b[0m\n",
            "\u001b[32m[I 2021-12-11 05:26:21,198]\u001b[0m Trial 23 finished with value: 0.8143310697454114 and parameters: {'n_estimators': 860, 'max_features': 'sqrt', 'max_depth': 92.9598539307004, 'min_samples_split': 3, 'min_samples_leaf': 2, 'criterion': 'squared_error'}. Best is trial 11 with value: 0.8433987391389496.\u001b[0m\n",
            "\u001b[32m[I 2021-12-11 05:26:26,999]\u001b[0m Trial 24 finished with value: 0.8394591211808642 and parameters: {'n_estimators': 1530, 'max_features': 'sqrt', 'max_depth': 10.194700811632817, 'min_samples_split': 2, 'min_samples_leaf': 1, 'criterion': 'squared_error'}. Best is trial 11 with value: 0.8433987391389496.\u001b[0m\n",
            "\u001b[32m[I 2021-12-11 05:26:33,271]\u001b[0m Trial 25 finished with value: 0.7599588288441583 and parameters: {'n_estimators': 1710, 'max_features': 'sqrt', 'max_depth': 10.687461946301424, 'min_samples_split': 2, 'min_samples_leaf': 4, 'criterion': 'squared_error'}. Best is trial 11 with value: 0.8433987391389496.\u001b[0m\n",
            "\u001b[32m[I 2021-12-11 05:26:38,876]\u001b[0m Trial 26 finished with value: 0.8099291702646281 and parameters: {'n_estimators': 1480, 'max_features': 'sqrt', 'max_depth': 20.823251176238408, 'min_samples_split': 5, 'min_samples_leaf': 2, 'criterion': 'squared_error'}. Best is trial 11 with value: 0.8433987391389496.\u001b[0m\n",
            "\u001b[32m[I 2021-12-11 05:26:44,666]\u001b[0m Trial 27 finished with value: 0.7837476955868014 and parameters: {'n_estimators': 1590, 'max_features': 'sqrt', 'max_depth': 42.67034611896224, 'min_samples_split': 4, 'min_samples_leaf': 3, 'criterion': 'squared_error'}. Best is trial 11 with value: 0.8433987391389496.\u001b[0m\n",
            "\u001b[32m[I 2021-12-11 05:26:50,420]\u001b[0m Trial 28 finished with value: 0.8286761919154616 and parameters: {'n_estimators': 1140, 'max_features': 'sqrt', 'max_depth': 30.010779160209708, 'min_samples_split': 2, 'min_samples_leaf': 1, 'criterion': 'absolute_error'}. Best is trial 11 with value: 0.8433987391389496.\u001b[0m\n",
            "\u001b[32m[I 2021-12-11 05:26:54,320]\u001b[0m Trial 29 finished with value: 0.6441070662622921 and parameters: {'n_estimators': 1040, 'max_features': 'log2', 'max_depth': 38.6874184779089, 'min_samples_split': 7, 'min_samples_leaf': 6, 'criterion': 'poisson'}. Best is trial 11 with value: 0.8433987391389496.\u001b[0m\n",
            "\u001b[32m[I 2021-12-11 05:27:02,031]\u001b[0m Trial 30 finished with value: 0.7042470646761988 and parameters: {'n_estimators': 1850, 'max_features': 'auto', 'max_depth': 51.203761610237066, 'min_samples_split': 3, 'min_samples_leaf': 8, 'criterion': 'poisson'}. Best is trial 11 with value: 0.8433987391389496.\u001b[0m\n",
            "\u001b[32m[I 2021-12-11 05:27:06,998]\u001b[0m Trial 31 finished with value: 0.8385988324180736 and parameters: {'n_estimators': 1300, 'max_features': 'sqrt', 'max_depth': 67.2815054835544, 'min_samples_split': 3, 'min_samples_leaf': 1, 'criterion': 'squared_error'}. Best is trial 11 with value: 0.8433987391389496.\u001b[0m\n",
            "\u001b[32m[I 2021-12-11 05:27:11,956]\u001b[0m Trial 32 finished with value: 0.812790278008196 and parameters: {'n_estimators': 1320, 'max_features': 'sqrt', 'max_depth': 66.18842740402968, 'min_samples_split': 4, 'min_samples_leaf': 2, 'criterion': 'squared_error'}. Best is trial 11 with value: 0.8433987391389496.\u001b[0m\n",
            "\u001b[32m[I 2021-12-11 05:27:15,274]\u001b[0m Trial 33 finished with value: 0.7853546621757452 and parameters: {'n_estimators': 900, 'max_features': 'sqrt', 'max_depth': 49.63858322791613, 'min_samples_split': 2, 'min_samples_leaf': 3, 'criterion': 'squared_error'}. Best is trial 11 with value: 0.8433987391389496.\u001b[0m\n",
            "\u001b[32m[I 2021-12-11 05:27:21,017]\u001b[0m Trial 34 finished with value: 0.8405276725317673 and parameters: {'n_estimators': 1530, 'max_features': 'sqrt', 'max_depth': 64.74711708706586, 'min_samples_split': 3, 'min_samples_leaf': 1, 'criterion': 'squared_error'}. Best is trial 11 with value: 0.8433987391389496.\u001b[0m\n",
            "\u001b[32m[I 2021-12-11 05:27:26,693]\u001b[0m Trial 35 finished with value: 0.7890748337871426 and parameters: {'n_estimators': 1560, 'max_features': 'log2', 'max_depth': 44.31413159199888, 'min_samples_split': 4, 'min_samples_leaf': 3, 'criterion': 'squared_error'}. Best is trial 11 with value: 0.8433987391389496.\u001b[0m\n",
            "\u001b[32m[I 2021-12-11 05:27:33,809]\u001b[0m Trial 36 finished with value: 0.7755792593130376 and parameters: {'n_estimators': 1810, 'max_features': 'sqrt', 'max_depth': 11.035872411153235, 'min_samples_split': 5, 'min_samples_leaf': 2, 'criterion': 'poisson'}. Best is trial 11 with value: 0.8433987391389496.\u001b[0m\n",
            "\u001b[32m[I 2021-12-11 05:27:36,533]\u001b[0m Trial 37 finished with value: 0.8353121146918063 and parameters: {'n_estimators': 710, 'max_features': 'sqrt', 'max_depth': 33.88922735242704, 'min_samples_split': 2, 'min_samples_leaf': 1, 'criterion': 'squared_error'}. Best is trial 11 with value: 0.8433987391389496.\u001b[0m\n",
            "\u001b[32m[I 2021-12-11 05:27:41,696]\u001b[0m Trial 38 finished with value: 0.7332789326218783 and parameters: {'n_estimators': 1150, 'max_features': 'log2', 'max_depth': 51.995476685523435, 'min_samples_split': 3, 'min_samples_leaf': 3, 'criterion': 'absolute_error'}. Best is trial 11 with value: 0.8433987391389496.\u001b[0m\n",
            "\u001b[32m[I 2021-12-11 05:27:47,750]\u001b[0m Trial 39 finished with value: 0.8251534379713988 and parameters: {'n_estimators': 1570, 'max_features': 'auto', 'max_depth': 61.732495141358235, 'min_samples_split': 13, 'min_samples_leaf': 2, 'criterion': 'squared_error'}. Best is trial 11 with value: 0.8433987391389496.\u001b[0m\n",
            "\u001b[32m[I 2021-12-11 05:27:53,175]\u001b[0m Trial 40 finished with value: 0.5715336586210447 and parameters: {'n_estimators': 1460, 'max_features': 'sqrt', 'max_depth': 28.162283634563103, 'min_samples_split': 4, 'min_samples_leaf': 10, 'criterion': 'poisson'}. Best is trial 11 with value: 0.8433987391389496.\u001b[0m\n",
            "\u001b[32m[I 2021-12-11 05:27:58,270]\u001b[0m Trial 41 finished with value: 0.838064702541136 and parameters: {'n_estimators': 1350, 'max_features': 'sqrt', 'max_depth': 74.03409436290299, 'min_samples_split': 3, 'min_samples_leaf': 1, 'criterion': 'squared_error'}. Best is trial 11 with value: 0.8433987391389496.\u001b[0m\n",
            "\u001b[32m[I 2021-12-11 05:28:02,299]\u001b[0m Trial 42 finished with value: 0.8412328748141654 and parameters: {'n_estimators': 1050, 'max_features': 'sqrt', 'max_depth': 58.009830622269384, 'min_samples_split': 3, 'min_samples_leaf': 1, 'criterion': 'squared_error'}. Best is trial 11 with value: 0.8433987391389496.\u001b[0m\n",
            "\u001b[32m[I 2021-12-11 05:28:06,054]\u001b[0m Trial 43 finished with value: 0.8403324597006243 and parameters: {'n_estimators': 970, 'max_features': 'sqrt', 'max_depth': 55.507386123949765, 'min_samples_split': 2, 'min_samples_leaf': 1, 'criterion': 'squared_error'}. Best is trial 11 with value: 0.8433987391389496.\u001b[0m\n",
            "\u001b[32m[I 2021-12-11 05:28:08,105]\u001b[0m Trial 44 finished with value: 0.8123200866755088 and parameters: {'n_estimators': 560, 'max_features': 'sqrt', 'max_depth': 54.99380325008138, 'min_samples_split': 4, 'min_samples_leaf': 2, 'criterion': 'squared_error'}. Best is trial 11 with value: 0.8433987391389496.\u001b[0m\n",
            "\u001b[32m[I 2021-12-11 05:28:10,922]\u001b[0m Trial 45 finished with value: 0.8936999151100617 and parameters: {'n_estimators': 700, 'max_features': 'auto', 'max_depth': 37.51214711614185, 'min_samples_split': 3, 'min_samples_leaf': 1, 'criterion': 'squared_error'}. Best is trial 45 with value: 0.8936999151100617.\u001b[0m\n",
            "\u001b[32m[I 2021-12-11 05:28:14,493]\u001b[0m Trial 46 finished with value: 0.8020921021710761 and parameters: {'n_estimators': 950, 'max_features': 'auto', 'max_depth': 38.324968618505174, 'min_samples_split': 7, 'min_samples_leaf': 6, 'criterion': 'squared_error'}. Best is trial 45 with value: 0.8936999151100617.\u001b[0m\n",
            "\u001b[32m[I 2021-12-11 05:28:17,370]\u001b[0m Trial 47 finished with value: 0.871497542650855 and parameters: {'n_estimators': 720, 'max_features': 'auto', 'max_depth': 45.69265566815539, 'min_samples_split': 3, 'min_samples_leaf': 2, 'criterion': 'squared_error'}. Best is trial 45 with value: 0.8936999151100617.\u001b[0m\n",
            "\u001b[32m[I 2021-12-11 05:28:18,894]\u001b[0m Trial 48 finished with value: 0.8702839951342211 and parameters: {'n_estimators': 380, 'max_features': 'auto', 'max_depth': 44.945923153714695, 'min_samples_split': 4, 'min_samples_leaf': 2, 'criterion': 'squared_error'}. Best is trial 45 with value: 0.8936999151100617.\u001b[0m\n",
            "\u001b[32m[I 2021-12-11 05:28:20,092]\u001b[0m Trial 49 finished with value: 0.8157055274136061 and parameters: {'n_estimators': 220, 'max_features': 'auto', 'max_depth': 45.23885973091282, 'min_samples_split': 5, 'min_samples_leaf': 4, 'criterion': 'absolute_error'}. Best is trial 45 with value: 0.8936999151100617.\u001b[0m\n",
            "\u001b[32m[I 2021-12-11 05:28:21,610]\u001b[0m Trial 50 finished with value: 0.8389088388083765 and parameters: {'n_estimators': 390, 'max_features': 'auto', 'max_depth': 35.49464179988264, 'min_samples_split': 6, 'min_samples_leaf': 3, 'criterion': 'squared_error'}. Best is trial 45 with value: 0.8936999151100617.\u001b[0m\n",
            "\u001b[32m[I 2021-12-11 05:28:24,306]\u001b[0m Trial 51 finished with value: 0.8726600374682917 and parameters: {'n_estimators': 660, 'max_features': 'auto', 'max_depth': 32.37346809381218, 'min_samples_split': 3, 'min_samples_leaf': 2, 'criterion': 'squared_error'}. Best is trial 45 with value: 0.8936999151100617.\u001b[0m\n",
            "\u001b[32m[I 2021-12-11 05:28:26,995]\u001b[0m Trial 52 finished with value: 0.8721755054454272 and parameters: {'n_estimators': 680, 'max_features': 'auto', 'max_depth': 32.31075632636405, 'min_samples_split': 3, 'min_samples_leaf': 2, 'criterion': 'squared_error'}. Best is trial 45 with value: 0.8936999151100617.\u001b[0m\n",
            "\u001b[32m[I 2021-12-11 05:28:29,607]\u001b[0m Trial 53 finished with value: 0.8749004793871258 and parameters: {'n_estimators': 660, 'max_features': 'auto', 'max_depth': 32.2442535103154, 'min_samples_split': 4, 'min_samples_leaf': 2, 'criterion': 'squared_error'}. Best is trial 45 with value: 0.8936999151100617.\u001b[0m\n",
            "\u001b[32m[I 2021-12-11 05:28:32,230]\u001b[0m Trial 54 finished with value: 0.8726205587817703 and parameters: {'n_estimators': 660, 'max_features': 'auto', 'max_depth': 31.626814202682464, 'min_samples_split': 4, 'min_samples_leaf': 2, 'criterion': 'squared_error'}. Best is trial 45 with value: 0.8936999151100617.\u001b[0m\n",
            "\u001b[32m[I 2021-12-11 05:28:34,906]\u001b[0m Trial 55 finished with value: 0.8723432635866536 and parameters: {'n_estimators': 670, 'max_features': 'auto', 'max_depth': 24.46984908235171, 'min_samples_split': 4, 'min_samples_leaf': 2, 'criterion': 'squared_error'}. Best is trial 45 with value: 0.8936999151100617.\u001b[0m\n",
            "\u001b[32m[I 2021-12-11 05:28:37,030]\u001b[0m Trial 56 finished with value: 0.8376055029749382 and parameters: {'n_estimators': 510, 'max_features': 'auto', 'max_depth': 23.580765387440827, 'min_samples_split': 5, 'min_samples_leaf': 3, 'criterion': 'squared_error'}. Best is trial 45 with value: 0.8936999151100617.\u001b[0m\n",
            "\u001b[32m[I 2021-12-11 05:28:39,584]\u001b[0m Trial 57 finished with value: 0.8135903480513834 and parameters: {'n_estimators': 650, 'max_features': 'auto', 'max_depth': 26.21979119316802, 'min_samples_split': 8, 'min_samples_leaf': 5, 'criterion': 'squared_error'}. Best is trial 45 with value: 0.8936999151100617.\u001b[0m\n",
            "\u001b[32m[I 2021-12-11 05:28:41,637]\u001b[0m Trial 58 finished with value: 0.8226934910782359 and parameters: {'n_estimators': 530, 'max_features': 'auto', 'max_depth': 31.448332362766887, 'min_samples_split': 6, 'min_samples_leaf': 4, 'criterion': 'squared_error'}. Best is trial 45 with value: 0.8936999151100617.\u001b[0m\n",
            "\u001b[32m[I 2021-12-11 05:28:44,706]\u001b[0m Trial 59 finished with value: 0.7941116690607286 and parameters: {'n_estimators': 650, 'max_features': 'auto', 'max_depth': 17.512494443941243, 'min_samples_split': 10, 'min_samples_leaf': 2, 'criterion': 'poisson'}. Best is trial 45 with value: 0.8936999151100617.\u001b[0m\n",
            "\u001b[32m[I 2021-12-11 05:28:46,500]\u001b[0m Trial 60 finished with value: 0.8414126008235246 and parameters: {'n_estimators': 460, 'max_features': 'auto', 'max_depth': 21.187389682657802, 'min_samples_split': 4, 'min_samples_leaf': 3, 'criterion': 'squared_error'}. Best is trial 45 with value: 0.8936999151100617.\u001b[0m\n",
            "\u001b[32m[I 2021-12-11 05:28:49,494]\u001b[0m Trial 61 finished with value: 0.873044110348843 and parameters: {'n_estimators': 760, 'max_features': 'auto', 'max_depth': 28.598798296256618, 'min_samples_split': 3, 'min_samples_leaf': 2, 'criterion': 'squared_error'}. Best is trial 45 with value: 0.8936999151100617.\u001b[0m\n",
            "\u001b[32m[I 2021-12-11 05:28:52,382]\u001b[0m Trial 62 finished with value: 0.8737173224176985 and parameters: {'n_estimators': 730, 'max_features': 'auto', 'max_depth': 28.01137369090886, 'min_samples_split': 4, 'min_samples_leaf': 2, 'criterion': 'squared_error'}. Best is trial 45 with value: 0.8936999151100617.\u001b[0m\n",
            "\u001b[32m[I 2021-12-11 05:28:55,449]\u001b[0m Trial 63 finished with value: 0.8737407878716966 and parameters: {'n_estimators': 790, 'max_features': 'auto', 'max_depth': 28.2439843288046, 'min_samples_split': 4, 'min_samples_leaf': 2, 'criterion': 'squared_error'}. Best is trial 45 with value: 0.8936999151100617.\u001b[0m\n",
            "\u001b[32m[I 2021-12-11 05:28:58,487]\u001b[0m Trial 64 finished with value: 0.8399451823822203 and parameters: {'n_estimators': 780, 'max_features': 'auto', 'max_depth': 29.052586609456647, 'min_samples_split': 5, 'min_samples_leaf': 3, 'criterion': 'squared_error'}. Best is trial 45 with value: 0.8936999151100617.\u001b[0m\n",
            "\u001b[32m[I 2021-12-11 05:29:00,929]\u001b[0m Trial 65 finished with value: 0.8731300446289446 and parameters: {'n_estimators': 590, 'max_features': 'auto', 'max_depth': 26.78384232025702, 'min_samples_split': 4, 'min_samples_leaf': 2, 'criterion': 'squared_error'}. Best is trial 45 with value: 0.8936999151100617.\u001b[0m\n",
            "\u001b[32m[I 2021-12-11 05:29:05,267]\u001b[0m Trial 66 finished with value: 0.8374331183297751 and parameters: {'n_estimators': 760, 'max_features': 'auto', 'max_depth': 26.74162447640642, 'min_samples_split': 5, 'min_samples_leaf': 3, 'criterion': 'absolute_error'}. Best is trial 45 with value: 0.8936999151100617.\u001b[0m\n",
            "\u001b[32m[I 2021-12-11 05:29:07,470]\u001b[0m Trial 67 finished with value: 0.7194938865036674 and parameters: {'n_estimators': 600, 'max_features': 'auto', 'max_depth': 20.99524874730152, 'min_samples_split': 6, 'min_samples_leaf': 9, 'criterion': 'squared_error'}. Best is trial 45 with value: 0.8936999151100617.\u001b[0m\n",
            "\u001b[32m[I 2021-12-11 05:29:10,961]\u001b[0m Trial 68 finished with value: 0.8741256861448304 and parameters: {'n_estimators': 890, 'max_features': 'auto', 'max_depth': 36.75176361292656, 'min_samples_split': 4, 'min_samples_leaf': 2, 'criterion': 'squared_error'}. Best is trial 45 with value: 0.8936999151100617.\u001b[0m\n",
            "\u001b[32m[I 2021-12-11 05:29:14,244]\u001b[0m Trial 69 finished with value: 0.8182983298376092 and parameters: {'n_estimators': 850, 'max_features': 'auto', 'max_depth': 36.15124916223033, 'min_samples_split': 4, 'min_samples_leaf': 4, 'criterion': 'squared_error'}. Best is trial 45 with value: 0.8936999151100617.\u001b[0m\n",
            "\u001b[32m[I 2021-12-11 05:29:17,698]\u001b[0m Trial 70 finished with value: 0.8856702381773028 and parameters: {'n_estimators': 870, 'max_features': 'auto', 'max_depth': 37.97876891861871, 'min_samples_split': 4, 'min_samples_leaf': 1, 'criterion': 'squared_error'}. Best is trial 45 with value: 0.8936999151100617.\u001b[0m\n",
            "\u001b[32m[I 2021-12-11 05:29:21,113]\u001b[0m Trial 71 finished with value: 0.8827687305444755 and parameters: {'n_estimators': 860, 'max_features': 'auto', 'max_depth': 39.80448575864296, 'min_samples_split': 4, 'min_samples_leaf': 1, 'criterion': 'squared_error'}. Best is trial 45 with value: 0.8936999151100617.\u001b[0m\n",
            "\u001b[32m[I 2021-12-11 05:29:24,603]\u001b[0m Trial 72 finished with value: 0.8682819317905146 and parameters: {'n_estimators': 900, 'max_features': 'auto', 'max_depth': 41.34911504781503, 'min_samples_split': 5, 'min_samples_leaf': 1, 'criterion': 'squared_error'}. Best is trial 45 with value: 0.8936999151100617.\u001b[0m\n",
            "\u001b[32m[I 2021-12-11 05:29:27,842]\u001b[0m Trial 73 finished with value: 0.8846859936502064 and parameters: {'n_estimators': 830, 'max_features': 'auto', 'max_depth': 38.136664837015005, 'min_samples_split': 4, 'min_samples_leaf': 1, 'criterion': 'squared_error'}. Best is trial 45 with value: 0.8936999151100617.\u001b[0m\n",
            "\u001b[32m[I 2021-12-11 05:29:31,075]\u001b[0m Trial 74 finished with value: 0.8672883831393268 and parameters: {'n_estimators': 830, 'max_features': 'auto', 'max_depth': 38.22113512923518, 'min_samples_split': 5, 'min_samples_leaf': 1, 'criterion': 'squared_error'}. Best is trial 45 with value: 0.8936999151100617.\u001b[0m\n",
            "\u001b[32m[I 2021-12-11 05:29:34,503]\u001b[0m Trial 75 finished with value: 0.8512096688146175 and parameters: {'n_estimators': 900, 'max_features': 'auto', 'max_depth': 40.143835594341596, 'min_samples_split': 6, 'min_samples_leaf': 1, 'criterion': 'squared_error'}. Best is trial 45 with value: 0.8936999151100617.\u001b[0m\n",
            "\u001b[32m[I 2021-12-11 05:29:38,542]\u001b[0m Trial 76 finished with value: 0.8840161885710817 and parameters: {'n_estimators': 1030, 'max_features': 'auto', 'max_depth': 35.71157059106324, 'min_samples_split': 4, 'min_samples_leaf': 1, 'criterion': 'squared_error'}. Best is trial 45 with value: 0.8936999151100617.\u001b[0m\n",
            "\u001b[32m[I 2021-12-11 05:29:43,524]\u001b[0m Trial 77 finished with value: 0.8238295924895987 and parameters: {'n_estimators': 950, 'max_features': 'auto', 'max_depth': 34.421845651805775, 'min_samples_split': 5, 'min_samples_leaf': 1, 'criterion': 'poisson'}. Best is trial 45 with value: 0.8936999151100617.\u001b[0m\n",
            "\u001b[32m[I 2021-12-11 05:29:47,441]\u001b[0m Trial 78 finished with value: 0.8354710965026334 and parameters: {'n_estimators': 1030, 'max_features': 'log2', 'max_depth': 36.084691512791636, 'min_samples_split': 4, 'min_samples_leaf': 1, 'criterion': 'squared_error'}. Best is trial 45 with value: 0.8936999151100617.\u001b[0m\n",
            "\u001b[32m[I 2021-12-11 05:29:53,588]\u001b[0m Trial 79 finished with value: 0.8339193787720672 and parameters: {'n_estimators': 1100, 'max_features': 'auto', 'max_depth': 42.3802043813738, 'min_samples_split': 14, 'min_samples_leaf': 1, 'criterion': 'absolute_error'}. Best is trial 45 with value: 0.8936999151100617.\u001b[0m\n",
            "\u001b[32m[I 2021-12-11 05:29:57,176]\u001b[0m Trial 80 finished with value: 0.8950641889628707 and parameters: {'n_estimators': 880, 'max_features': 'auto', 'max_depth': 30.403111771670396, 'min_samples_split': 3, 'min_samples_leaf': 1, 'criterion': 'squared_error'}. Best is trial 80 with value: 0.8950641889628707.\u001b[0m\n",
            "\u001b[32m[I 2021-12-11 05:30:00,800]\u001b[0m Trial 81 finished with value: 0.8923141379631594 and parameters: {'n_estimators': 880, 'max_features': 'auto', 'max_depth': 30.338014249512295, 'min_samples_split': 3, 'min_samples_leaf': 1, 'criterion': 'squared_error'}. Best is trial 80 with value: 0.8950641889628707.\u001b[0m\n",
            "\u001b[32m[I 2021-12-11 05:30:04,374]\u001b[0m Trial 82 finished with value: 0.8942988895271644 and parameters: {'n_estimators': 870, 'max_features': 'auto', 'max_depth': 30.410946770512126, 'min_samples_split': 3, 'min_samples_leaf': 1, 'criterion': 'squared_error'}. Best is trial 80 with value: 0.8950641889628707.\u001b[0m\n",
            "\u001b[32m[I 2021-12-11 05:30:08,506]\u001b[0m Trial 83 finished with value: 0.8961857990497567 and parameters: {'n_estimators': 1000, 'max_features': 'auto', 'max_depth': 30.586732057521793, 'min_samples_split': 2, 'min_samples_leaf': 1, 'criterion': 'squared_error'}. Best is trial 83 with value: 0.8961857990497567.\u001b[0m\n",
            "\u001b[32m[I 2021-12-11 05:30:12,612]\u001b[0m Trial 84 finished with value: 0.8959461944099073 and parameters: {'n_estimators': 1000, 'max_features': 'auto', 'max_depth': 30.866258365166107, 'min_samples_split': 2, 'min_samples_leaf': 1, 'criterion': 'squared_error'}. Best is trial 83 with value: 0.8961857990497567.\u001b[0m\n",
            "\u001b[32m[I 2021-12-11 05:30:17,043]\u001b[0m Trial 85 finished with value: 0.8943982816665015 and parameters: {'n_estimators': 1010, 'max_features': 'auto', 'max_depth': 29.991592326136832, 'min_samples_split': 2, 'min_samples_leaf': 1, 'criterion': 'squared_error'}. Best is trial 83 with value: 0.8961857990497567.\u001b[0m\n",
            "\u001b[32m[I 2021-12-11 05:30:21,779]\u001b[0m Trial 86 finished with value: 0.8972698456965222 and parameters: {'n_estimators': 990, 'max_features': 'auto', 'max_depth': 29.871752784324265, 'min_samples_split': 2, 'min_samples_leaf': 1, 'criterion': 'squared_error'}. Best is trial 86 with value: 0.8972698456965222.\u001b[0m\n",
            "\u001b[32m[I 2021-12-11 05:30:27,066]\u001b[0m Trial 87 finished with value: 0.8438991112059328 and parameters: {'n_estimators': 1230, 'max_features': 'log2', 'max_depth': 30.179916989247033, 'min_samples_split': 2, 'min_samples_leaf': 1, 'criterion': 'squared_error'}. Best is trial 86 with value: 0.8972698456965222.\u001b[0m\n",
            "\u001b[32m[I 2021-12-11 05:30:30,907]\u001b[0m Trial 88 finished with value: 0.8933903587561766 and parameters: {'n_estimators': 940, 'max_features': 'auto', 'max_depth': 25.330117943897328, 'min_samples_split': 2, 'min_samples_leaf': 1, 'criterion': 'squared_error'}. Best is trial 86 with value: 0.8972698456965222.\u001b[0m\n",
            "\u001b[32m[I 2021-12-11 05:30:34,885]\u001b[0m Trial 89 finished with value: 0.8961780876033032 and parameters: {'n_estimators': 990, 'max_features': 'auto', 'max_depth': 22.39478110741266, 'min_samples_split': 2, 'min_samples_leaf': 1, 'criterion': 'squared_error'}. Best is trial 86 with value: 0.8972698456965222.\u001b[0m\n",
            "\u001b[32m[I 2021-12-11 05:30:40,030]\u001b[0m Trial 90 finished with value: 0.8552711786181998 and parameters: {'n_estimators': 990, 'max_features': 'auto', 'max_depth': 22.40491880063236, 'min_samples_split': 2, 'min_samples_leaf': 1, 'criterion': 'poisson'}. Best is trial 86 with value: 0.8972698456965222.\u001b[0m\n",
            "\u001b[32m[I 2021-12-11 05:30:44,363]\u001b[0m Trial 91 finished with value: 0.8941642480863811 and parameters: {'n_estimators': 1070, 'max_features': 'auto', 'max_depth': 24.89188495459954, 'min_samples_split': 2, 'min_samples_leaf': 1, 'criterion': 'squared_error'}. Best is trial 86 with value: 0.8972698456965222.\u001b[0m\n",
            "\u001b[32m[I 2021-12-11 05:30:49,221]\u001b[0m Trial 92 finished with value: 0.8935254249433594 and parameters: {'n_estimators': 1180, 'max_features': 'auto', 'max_depth': 19.65396673811112, 'min_samples_split': 2, 'min_samples_leaf': 1, 'criterion': 'squared_error'}. Best is trial 86 with value: 0.8972698456965222.\u001b[0m\n",
            "\u001b[32m[I 2021-12-11 05:30:54,213]\u001b[0m Trial 93 finished with value: 0.8944312412238348 and parameters: {'n_estimators': 1190, 'max_features': 'auto', 'max_depth': 19.801698582834636, 'min_samples_split': 2, 'min_samples_leaf': 1, 'criterion': 'squared_error'}. Best is trial 86 with value: 0.8972698456965222.\u001b[0m\n",
            "\u001b[32m[I 2021-12-11 05:30:58,705]\u001b[0m Trial 94 finished with value: 0.8945293038811918 and parameters: {'n_estimators': 1090, 'max_features': 'auto', 'max_depth': 14.347756026545795, 'min_samples_split': 2, 'min_samples_leaf': 1, 'criterion': 'squared_error'}. Best is trial 86 with value: 0.8972698456965222.\u001b[0m\n",
            "\u001b[32m[I 2021-12-11 05:31:03,397]\u001b[0m Trial 95 finished with value: 0.8960044282659493 and parameters: {'n_estimators': 1130, 'max_features': 'auto', 'max_depth': 13.691842251937667, 'min_samples_split': 2, 'min_samples_leaf': 1, 'criterion': 'squared_error'}. Best is trial 86 with value: 0.8972698456965222.\u001b[0m\n",
            "\u001b[32m[I 2021-12-11 05:31:07,933]\u001b[0m Trial 96 finished with value: 0.8931880496083652 and parameters: {'n_estimators': 1130, 'max_features': 'auto', 'max_depth': 15.679274630457828, 'min_samples_split': 2, 'min_samples_leaf': 1, 'criterion': 'squared_error'}. Best is trial 86 with value: 0.8972698456965222.\u001b[0m\n",
            "\u001b[32m[I 2021-12-11 05:31:12,884]\u001b[0m Trial 97 finished with value: 0.8930875020895553 and parameters: {'n_estimators': 1220, 'max_features': 'auto', 'max_depth': 14.19314616635538, 'min_samples_split': 2, 'min_samples_leaf': 1, 'criterion': 'squared_error'}. Best is trial 86 with value: 0.8972698456965222.\u001b[0m\n",
            "\u001b[32m[I 2021-12-11 05:31:19,574]\u001b[0m Trial 98 finished with value: 0.8911908493919665 and parameters: {'n_estimators': 1000, 'max_features': 'auto', 'max_depth': 11.895223480023686, 'min_samples_split': 2, 'min_samples_leaf': 1, 'criterion': 'absolute_error'}. Best is trial 86 with value: 0.8972698456965222.\u001b[0m\n",
            "\u001b[32m[I 2021-12-11 05:31:23,917]\u001b[0m Trial 99 finished with value: 0.840973975110658 and parameters: {'n_estimators': 1120, 'max_features': 'log2', 'max_depth': 14.200807043503263, 'min_samples_split': 2, 'min_samples_leaf': 1, 'criterion': 'squared_error'}. Best is trial 86 with value: 0.8972698456965222.\u001b[0m\n",
            "\u001b[32m[I 2021-12-11 05:31:23,920]\u001b[0m A new study created in memory with name: no-name-b6074e07-acc8-4fd6-b3dc-7b115329eeb7\u001b[0m\n",
            "\u001b[32m[I 2021-12-11 05:31:24,478]\u001b[0m Trial 0 finished with value: 0.7848775424715552 and parameters: {'n_estimators': 60, 'max_depth': 10, 'reg_alpha': 2, 'reg_lambda': 1, 'min_child_weight': 3, 'gamma': 3, 'learning_rate': 0.08362975571659387, 'colsample_bytree': 0.36}. Best is trial 0 with value: 0.7848775424715552.\u001b[0m\n",
            "\u001b[32m[I 2021-12-11 05:31:24,542]\u001b[0m Trial 1 finished with value: 0.8559359181799965 and parameters: {'n_estimators': 60, 'max_depth': 8, 'reg_alpha': 1, 'reg_lambda': 4, 'min_child_weight': 4, 'gamma': 3, 'learning_rate': 0.0955637667284677, 'colsample_bytree': 0.88}. Best is trial 1 with value: 0.8559359181799965.\u001b[0m\n",
            "\u001b[32m[I 2021-12-11 05:31:24,610]\u001b[0m Trial 2 finished with value: 0.29212805088304566 and parameters: {'n_estimators': 150, 'max_depth': 7, 'reg_alpha': 1, 'reg_lambda': 2, 'min_child_weight': 2, 'gamma': 5, 'learning_rate': 0.008815477300105104, 'colsample_bytree': 0.14}. Best is trial 1 with value: 0.8559359181799965.\u001b[0m\n",
            "\u001b[32m[I 2021-12-11 05:31:24,803]\u001b[0m Trial 3 finished with value: 0.7810211122509024 and parameters: {'n_estimators': 690, 'max_depth': 20, 'reg_alpha': 5, 'reg_lambda': 1, 'min_child_weight': 5, 'gamma': 0, 'learning_rate': 0.024021393792464363, 'colsample_bytree': 0.1}. Best is trial 1 with value: 0.8559359181799965.\u001b[0m\n",
            "\u001b[32m[I 2021-12-11 05:31:25,006]\u001b[0m Trial 4 finished with value: 0.828384542290426 and parameters: {'n_estimators': 690, 'max_depth': 3, 'reg_alpha': 3, 'reg_lambda': 3, 'min_child_weight': 1, 'gamma': 5, 'learning_rate': 0.009500615775257681, 'colsample_bytree': 0.5700000000000001}. Best is trial 1 with value: 0.8559359181799965.\u001b[0m\n",
            "\u001b[32m[I 2021-12-11 05:31:25,692]\u001b[0m Trial 5 finished with value: 0.8746804577405269 and parameters: {'n_estimators': 920, 'max_depth': 16, 'reg_alpha': 1, 'reg_lambda': 0, 'min_child_weight': 4, 'gamma': 3, 'learning_rate': 0.06299707873907888, 'colsample_bytree': 0.86}. Best is trial 5 with value: 0.8746804577405269.\u001b[0m\n",
            "\u001b[32m[I 2021-12-11 05:31:25,932]\u001b[0m Trial 6 finished with value: 0.8267901523741118 and parameters: {'n_estimators': 650, 'max_depth': 16, 'reg_alpha': 2, 'reg_lambda': 2, 'min_child_weight': 4, 'gamma': 1, 'learning_rate': 0.4929581546907318, 'colsample_bytree': 0.42000000000000004}. Best is trial 5 with value: 0.8746804577405269.\u001b[0m\n",
            "\u001b[32m[I 2021-12-11 05:31:26,068]\u001b[0m Trial 7 finished with value: 0.8143333984592708 and parameters: {'n_estimators': 260, 'max_depth': 10, 'reg_alpha': 1, 'reg_lambda': 1, 'min_child_weight': 2, 'gamma': 4, 'learning_rate': 0.29838880879371177, 'colsample_bytree': 0.30000000000000004}. Best is trial 5 with value: 0.8746804577405269.\u001b[0m\n",
            "\u001b[32m[I 2021-12-11 05:31:26,393]\u001b[0m Trial 8 finished with value: 0.8570967007415038 and parameters: {'n_estimators': 760, 'max_depth': 20, 'reg_alpha': 3, 'reg_lambda': 4, 'min_child_weight': 3, 'gamma': 2, 'learning_rate': 0.022524922553451694, 'colsample_bytree': 0.59}. Best is trial 5 with value: 0.8746804577405269.\u001b[0m\n",
            "\u001b[32m[I 2021-12-11 05:31:26,497]\u001b[0m Trial 9 finished with value: 0.8348263548708533 and parameters: {'n_estimators': 230, 'max_depth': 16, 'reg_alpha': 3, 'reg_lambda': 1, 'min_child_weight': 4, 'gamma': 1, 'learning_rate': 0.08314568410375482, 'colsample_bytree': 0.41000000000000003}. Best is trial 5 with value: 0.8746804577405269.\u001b[0m\n",
            "\u001b[32m[I 2021-12-11 05:31:28,045]\u001b[0m Trial 10 finished with value: 0.8890674065922269 and parameters: {'n_estimators': 960, 'max_depth': 25, 'reg_alpha': 0, 'reg_lambda': 0, 'min_child_weight': 0, 'gamma': 2, 'learning_rate': 0.20974089730494183, 'colsample_bytree': 1.0}. Best is trial 10 with value: 0.8890674065922269.\u001b[0m\n",
            "\u001b[32m[I 2021-12-11 05:31:29,550]\u001b[0m Trial 11 finished with value: 0.8874944005509843 and parameters: {'n_estimators': 960, 'max_depth': 25, 'reg_alpha': 0, 'reg_lambda': 0, 'min_child_weight': 0, 'gamma': 2, 'learning_rate': 0.20013759187430277, 'colsample_bytree': 0.97}. Best is trial 10 with value: 0.8890674065922269.\u001b[0m\n",
            "\u001b[32m[I 2021-12-11 05:31:31,155]\u001b[0m Trial 12 finished with value: 0.8857535363491206 and parameters: {'n_estimators': 990, 'max_depth': 24, 'reg_alpha': 0, 'reg_lambda': 0, 'min_child_weight': 0, 'gamma': 2, 'learning_rate': 0.19251416975124241, 'colsample_bytree': 1.0}. Best is trial 10 with value: 0.8890674065922269.\u001b[0m\n",
            "\u001b[32m[I 2021-12-11 05:31:31,759]\u001b[0m Trial 13 finished with value: 0.8799379027563455 and parameters: {'n_estimators': 440, 'max_depth': 25, 'reg_alpha': 0, 'reg_lambda': 0, 'min_child_weight': 0, 'gamma': 1, 'learning_rate': 0.1824466514269602, 'colsample_bytree': 0.77}. Best is trial 10 with value: 0.8890674065922269.\u001b[0m\n",
            "\u001b[32m[I 2021-12-11 05:31:33,089]\u001b[0m Trial 14 finished with value: 0.8908174377705147 and parameters: {'n_estimators': 860, 'max_depth': 21, 'reg_alpha': 0, 'reg_lambda': 0, 'min_child_weight': 1, 'gamma': 2, 'learning_rate': 0.18315604967487256, 'colsample_bytree': 1.0}. Best is trial 14 with value: 0.8908174377705147.\u001b[0m\n",
            "\u001b[32m[I 2021-12-11 05:31:33,268]\u001b[0m Trial 15 finished with value: 0.8740198003480271 and parameters: {'n_estimators': 830, 'max_depth': 21, 'reg_alpha': 5, 'reg_lambda': 3, 'min_child_weight': 1, 'gamma': 0, 'learning_rate': 0.4564273604477781, 'colsample_bytree': 0.71}. Best is trial 14 with value: 0.8908174377705147.\u001b[0m\n",
            "\u001b[32m[I 2021-12-11 05:31:33,688]\u001b[0m Trial 16 finished with value: 0.8694021077352247 and parameters: {'n_estimators': 520, 'max_depth': 22, 'reg_alpha': 0, 'reg_lambda': 5, 'min_child_weight': 1, 'gamma': 4, 'learning_rate': 0.14298445084322703, 'colsample_bytree': 0.7}. Best is trial 14 with value: 0.8908174377705147.\u001b[0m\n",
            "\u001b[32m[I 2021-12-11 05:31:34,153]\u001b[0m Trial 17 finished with value: 0.8793930112469992 and parameters: {'n_estimators': 820, 'max_depth': 19, 'reg_alpha': 4, 'reg_lambda': 2, 'min_child_weight': 1, 'gamma': 1, 'learning_rate': 0.03671834988842588, 'colsample_bytree': 0.88}. Best is trial 14 with value: 0.8908174377705147.\u001b[0m\n",
            "\u001b[32m[I 2021-12-11 05:31:34,473]\u001b[0m Trial 18 finished with value: 0.8946033617705935 and parameters: {'n_estimators': 530, 'max_depth': 23, 'reg_alpha': 2, 'reg_lambda': 0, 'min_child_weight': 0, 'gamma': 2, 'learning_rate': 0.268819748483811, 'colsample_bytree': 0.79}. Best is trial 18 with value: 0.8946033617705935.\u001b[0m\n",
            "\u001b[32m[I 2021-12-11 05:31:34,792]\u001b[0m Trial 19 finished with value: 0.8617527355806716 and parameters: {'n_estimators': 480, 'max_depth': 13, 'reg_alpha': 2, 'reg_lambda': 1, 'min_child_weight': 2, 'gamma': 4, 'learning_rate': 0.3202206876718691, 'colsample_bytree': 0.78}. Best is trial 18 with value: 0.8946033617705935.\u001b[0m\n",
            "\u001b[32m[I 2021-12-11 05:31:34,981]\u001b[0m Trial 20 finished with value: 0.8604621327422995 and parameters: {'n_estimators': 360, 'max_depth': 18, 'reg_alpha': 4, 'reg_lambda': 0, 'min_child_weight': 1, 'gamma': 3, 'learning_rate': 0.12412007318591273, 'colsample_bytree': 0.65}. Best is trial 18 with value: 0.8946033617705935.\u001b[0m\n",
            "\u001b[32m[I 2021-12-11 05:31:35,717]\u001b[0m Trial 21 finished with value: 0.8874703832174701 and parameters: {'n_estimators': 880, 'max_depth': 23, 'reg_alpha': 1, 'reg_lambda': 0, 'min_child_weight': 0, 'gamma': 2, 'learning_rate': 0.289244458825796, 'colsample_bytree': 0.94}. Best is trial 18 with value: 0.8946033617705935.\u001b[0m\n",
            "\u001b[32m[I 2021-12-11 05:31:36,404]\u001b[0m Trial 22 finished with value: 0.8914441507202272 and parameters: {'n_estimators': 600, 'max_depth': 23, 'reg_alpha': 0, 'reg_lambda': 1, 'min_child_weight': 0, 'gamma': 2, 'learning_rate': 0.2641345842176953, 'colsample_bytree': 0.8099999999999999}. Best is trial 18 with value: 0.8946033617705935.\u001b[0m\n",
            "\u001b[32m[I 2021-12-11 05:31:36,779]\u001b[0m Trial 23 finished with value: 0.8936482386905812 and parameters: {'n_estimators': 590, 'max_depth': 22, 'reg_alpha': 2, 'reg_lambda': 1, 'min_child_weight': 0, 'gamma': 1, 'learning_rate': 0.33796693368457836, 'colsample_bytree': 0.8}. Best is trial 18 with value: 0.8946033617705935.\u001b[0m\n",
            "\u001b[32m[I 2021-12-11 05:31:37,149]\u001b[0m Trial 24 finished with value: 0.8944718577223191 and parameters: {'n_estimators': 580, 'max_depth': 23, 'reg_alpha': 2, 'reg_lambda': 1, 'min_child_weight': 0, 'gamma': 1, 'learning_rate': 0.3412754654594035, 'colsample_bytree': 0.8}. Best is trial 18 with value: 0.8946033617705935.\u001b[0m\n",
            "\u001b[32m[I 2021-12-11 05:31:37,297]\u001b[0m Trial 25 finished with value: 0.8757344729392634 and parameters: {'n_estimators': 570, 'max_depth': 18, 'reg_alpha': 2, 'reg_lambda': 2, 'min_child_weight': 0, 'gamma': 0, 'learning_rate': 0.4265628966875064, 'colsample_bytree': 0.66}. Best is trial 18 with value: 0.8946033617705935.\u001b[0m\n",
            "\u001b[32m[I 2021-12-11 05:31:37,485]\u001b[0m Trial 26 finished with value: 0.7322626072754126 and parameters: {'n_estimators': 390, 'max_depth': 22, 'reg_alpha': 2, 'reg_lambda': 1, 'min_child_weight': 1, 'gamma': 1, 'learning_rate': 0.005380579289361902, 'colsample_bytree': 0.51}. Best is trial 18 with value: 0.8946033617705935.\u001b[0m\n",
            "\u001b[32m[I 2021-12-11 05:31:37,802]\u001b[0m Trial 27 finished with value: 0.8668466005289434 and parameters: {'n_estimators': 540, 'max_depth': 13, 'reg_alpha': 3, 'reg_lambda': 2, 'min_child_weight': 0, 'gamma': 1, 'learning_rate': 0.35132497293666104, 'colsample_bytree': 0.73}. Best is trial 18 with value: 0.8946033617705935.\u001b[0m\n",
            "\u001b[32m[I 2021-12-11 05:31:37,933]\u001b[0m Trial 28 finished with value: 0.8647538542991029 and parameters: {'n_estimators': 390, 'max_depth': 23, 'reg_alpha': 4, 'reg_lambda': 3, 'min_child_weight': 2, 'gamma': 0, 'learning_rate': 0.12141099254203512, 'colsample_bytree': 0.8}. Best is trial 18 with value: 0.8946033617705935.\u001b[0m\n",
            "\u001b[32m[I 2021-12-11 05:31:38,415]\u001b[0m Trial 29 finished with value: 0.8881080404624629 and parameters: {'n_estimators': 740, 'max_depth': 18, 'reg_alpha': 2, 'reg_lambda': 1, 'min_child_weight': 3, 'gamma': 1, 'learning_rate': 0.06006116988346394, 'colsample_bytree': 0.91}. Best is trial 18 with value: 0.8946033617705935.\u001b[0m\n",
            "\u001b[32m[I 2021-12-11 05:31:38,684]\u001b[0m Trial 30 finished with value: 0.8944870837307365 and parameters: {'n_estimators': 610, 'max_depth': 11, 'reg_alpha': 2, 'reg_lambda': 1, 'min_child_weight': 0, 'gamma': 0, 'learning_rate': 0.040850854126953905, 'colsample_bytree': 0.84}. Best is trial 18 with value: 0.8946033617705935.\u001b[0m\n",
            "\u001b[32m[I 2021-12-11 05:31:38,956]\u001b[0m Trial 31 finished with value: 0.892714671877474 and parameters: {'n_estimators': 610, 'max_depth': 9, 'reg_alpha': 2, 'reg_lambda': 1, 'min_child_weight': 0, 'gamma': 0, 'learning_rate': 0.037963566070828056, 'colsample_bytree': 0.84}. Best is trial 18 with value: 0.8946033617705935.\u001b[0m\n",
            "\u001b[32m[I 2021-12-11 05:31:39,251]\u001b[0m Trial 32 finished with value: 0.8922087861345084 and parameters: {'n_estimators': 470, 'max_depth': 11, 'reg_alpha': 2, 'reg_lambda': 1, 'min_child_weight': 0, 'gamma': 0, 'learning_rate': 0.02014060474050148, 'colsample_bytree': 0.75}. Best is trial 18 with value: 0.8946033617705935.\u001b[0m\n",
            "\u001b[32m[I 2021-12-11 05:31:39,622]\u001b[0m Trial 33 finished with value: 0.8963550484991997 and parameters: {'n_estimators': 650, 'max_depth': 6, 'reg_alpha': 1, 'reg_lambda': 2, 'min_child_weight': 1, 'gamma': 1, 'learning_rate': 0.0854408736499262, 'colsample_bytree': 0.9}. Best is trial 33 with value: 0.8963550484991997.\u001b[0m\n",
            "\u001b[32m[I 2021-12-11 05:31:39,672]\u001b[0m Trial 34 finished with value: 0.4597100386329542 and parameters: {'n_estimators': 10, 'max_depth': 6, 'reg_alpha': 1, 'reg_lambda': 2, 'min_child_weight': 1, 'gamma': 0, 'learning_rate': 0.07977170064406758, 'colsample_bytree': 0.93}. Best is trial 33 with value: 0.8963550484991997.\u001b[0m\n",
            "\u001b[32m[I 2021-12-11 05:31:39,958]\u001b[0m Trial 35 finished with value: 0.8958631397297306 and parameters: {'n_estimators': 690, 'max_depth': 4, 'reg_alpha': 1, 'reg_lambda': 2, 'min_child_weight': 1, 'gamma': 1, 'learning_rate': 0.04032140255721937, 'colsample_bytree': 0.87}. Best is trial 33 with value: 0.8963550484991997.\u001b[0m\n",
            "\u001b[32m[I 2021-12-11 05:31:40,220]\u001b[0m Trial 36 finished with value: 0.869418217548449 and parameters: {'n_estimators': 730, 'max_depth': 3, 'reg_alpha': 1, 'reg_lambda': 3, 'min_child_weight': 2, 'gamma': 3, 'learning_rate': 0.037462001186049636, 'colsample_bytree': 0.86}. Best is trial 33 with value: 0.8963550484991997.\u001b[0m\n",
            "\u001b[32m[I 2021-12-11 05:31:40,543]\u001b[0m Trial 37 finished with value: 0.902062656830771 and parameters: {'n_estimators': 650, 'max_depth': 5, 'reg_alpha': 1, 'reg_lambda': 2, 'min_child_weight': 1, 'gamma': 0, 'learning_rate': 0.016348413089023274, 'colsample_bytree': 0.92}. Best is trial 37 with value: 0.902062656830771.\u001b[0m\n",
            "\u001b[32m[I 2021-12-11 05:31:40,877]\u001b[0m Trial 38 finished with value: 0.8851109772897816 and parameters: {'n_estimators': 670, 'max_depth': 5, 'reg_alpha': 1, 'reg_lambda': 4, 'min_child_weight': 1, 'gamma': 1, 'learning_rate': 0.016240600755090703, 'colsample_bytree': 0.9}. Best is trial 37 with value: 0.902062656830771.\u001b[0m\n",
            "\u001b[32m[I 2021-12-11 05:31:41,056]\u001b[0m Trial 39 finished with value: 0.7601581822544787 and parameters: {'n_estimators': 770, 'max_depth': 2, 'reg_alpha': 1, 'reg_lambda': 3, 'min_child_weight': 2, 'gamma': 0, 'learning_rate': 0.012937835746949906, 'colsample_bytree': 0.21000000000000002}. Best is trial 37 with value: 0.902062656830771.\u001b[0m\n",
            "\u001b[32m[I 2021-12-11 05:31:41,388]\u001b[0m Trial 40 finished with value: 0.8639289836342169 and parameters: {'n_estimators': 660, 'max_depth': 5, 'reg_alpha': 1, 'reg_lambda': 2, 'min_child_weight': 5, 'gamma': 3, 'learning_rate': 0.02878090000865615, 'colsample_bytree': 0.95}. Best is trial 37 with value: 0.902062656830771.\u001b[0m\n",
            "\u001b[32m[I 2021-12-11 05:31:41,669]\u001b[0m Trial 41 finished with value: 0.8961622551938427 and parameters: {'n_estimators': 710, 'max_depth': 7, 'reg_alpha': 1, 'reg_lambda': 2, 'min_child_weight': 1, 'gamma': 0, 'learning_rate': 0.053848447875493484, 'colsample_bytree': 0.85}. Best is trial 37 with value: 0.902062656830771.\u001b[0m\n",
            "\u001b[32m[I 2021-12-11 05:31:41,983]\u001b[0m Trial 42 finished with value: 0.9021720290320975 and parameters: {'n_estimators': 700, 'max_depth': 7, 'reg_alpha': 1, 'reg_lambda': 2, 'min_child_weight': 1, 'gamma': 0, 'learning_rate': 0.061123444966401846, 'colsample_bytree': 0.89}. Best is trial 42 with value: 0.9021720290320975.\u001b[0m\n",
            "\u001b[32m[I 2021-12-11 05:31:42,269]\u001b[0m Trial 43 finished with value: 0.8925305969652616 and parameters: {'n_estimators': 700, 'max_depth': 7, 'reg_alpha': 1, 'reg_lambda': 2, 'min_child_weight': 2, 'gamma': 0, 'learning_rate': 0.05694647016797425, 'colsample_bytree': 0.88}. Best is trial 42 with value: 0.9021720290320975.\u001b[0m\n",
            "\u001b[32m[I 2021-12-11 05:31:42,496]\u001b[0m Trial 44 finished with value: 0.9044464897864343 and parameters: {'n_estimators': 780, 'max_depth': 4, 'reg_alpha': 1, 'reg_lambda': 2, 'min_child_weight': 1, 'gamma': 0, 'learning_rate': 0.07024272952556013, 'colsample_bytree': 0.92}. Best is trial 44 with value: 0.9044464897864343.\u001b[0m\n",
            "\u001b[32m[I 2021-12-11 05:31:42,787]\u001b[0m Trial 45 finished with value: 0.892470987328872 and parameters: {'n_estimators': 790, 'max_depth': 8, 'reg_alpha': 1, 'reg_lambda': 3, 'min_child_weight': 1, 'gamma': 0, 'learning_rate': 0.07160561833973542, 'colsample_bytree': 0.96}. Best is trial 44 with value: 0.9044464897864343.\u001b[0m\n",
            "\u001b[32m[I 2021-12-11 05:31:43,026]\u001b[0m Trial 46 finished with value: 0.8425664528530533 and parameters: {'n_estimators': 900, 'max_depth': 7, 'reg_alpha': 1, 'reg_lambda': 2, 'min_child_weight': 2, 'gamma': 0, 'learning_rate': 0.09681792002299702, 'colsample_bytree': 0.51}. Best is trial 44 with value: 0.9044464897864343.\u001b[0m\n",
            "\u001b[32m[I 2021-12-11 05:31:43,440]\u001b[0m Trial 47 finished with value: 0.9025142677657225 and parameters: {'n_estimators': 800, 'max_depth': 5, 'reg_alpha': 0, 'reg_lambda': 2, 'min_child_weight': 1, 'gamma': 0, 'learning_rate': 0.04933063897930455, 'colsample_bytree': 0.92}. Best is trial 44 with value: 0.9044464897864343.\u001b[0m\n",
            "\u001b[32m[I 2021-12-11 05:31:43,677]\u001b[0m Trial 48 finished with value: 0.8933119470245191 and parameters: {'n_estimators': 800, 'max_depth': 2, 'reg_alpha': 0, 'reg_lambda': 3, 'min_child_weight': 1, 'gamma': 0, 'learning_rate': 0.10195123066307678, 'colsample_bytree': 0.91}. Best is trial 44 with value: 0.9044464897864343.\u001b[0m\n",
            "\u001b[32m[I 2021-12-11 05:31:44,032]\u001b[0m Trial 49 finished with value: 0.9033926645727653 and parameters: {'n_estimators': 850, 'max_depth': 4, 'reg_alpha': 0, 'reg_lambda': 2, 'min_child_weight': 2, 'gamma': 0, 'learning_rate': 0.028849007944920086, 'colsample_bytree': 0.97}. Best is trial 44 with value: 0.9044464897864343.\u001b[0m\n",
            "\u001b[32m[I 2021-12-11 05:31:44,438]\u001b[0m Trial 50 finished with value: 0.8770780239597205 and parameters: {'n_estimators': 930, 'max_depth': 4, 'reg_alpha': 0, 'reg_lambda': 2, 'min_child_weight': 3, 'gamma': 5, 'learning_rate': 0.029018274083624875, 'colsample_bytree': 1.0}. Best is trial 44 with value: 0.9044464897864343.\u001b[0m\n",
            "\u001b[32m[I 2021-12-11 05:31:44,858]\u001b[0m Trial 51 finished with value: 0.9024070431212367 and parameters: {'n_estimators': 850, 'max_depth': 5, 'reg_alpha': 0, 'reg_lambda': 2, 'min_child_weight': 1, 'gamma': 0, 'learning_rate': 0.07096723021322947, 'colsample_bytree': 0.97}. Best is trial 44 with value: 0.9044464897864343.\u001b[0m\n",
            "\u001b[32m[I 2021-12-11 05:31:45,208]\u001b[0m Trial 52 finished with value: 0.9070942420073136 and parameters: {'n_estimators': 840, 'max_depth': 4, 'reg_alpha': 0, 'reg_lambda': 2, 'min_child_weight': 2, 'gamma': 0, 'learning_rate': 0.0260499758331025, 'colsample_bytree': 0.98}. Best is trial 52 with value: 0.9070942420073136.\u001b[0m\n",
            "\u001b[32m[I 2021-12-11 05:31:45,519]\u001b[0m Trial 53 finished with value: 0.8921389270713519 and parameters: {'n_estimators': 840, 'max_depth': 3, 'reg_alpha': 0, 'reg_lambda': 3, 'min_child_weight': 2, 'gamma': 0, 'learning_rate': 0.045263951133606165, 'colsample_bytree': 0.95}. Best is trial 52 with value: 0.9070942420073136.\u001b[0m\n",
            "\u001b[32m[I 2021-12-11 05:31:45,926]\u001b[0m Trial 54 finished with value: 0.9049563158666527 and parameters: {'n_estimators': 1000, 'max_depth': 4, 'reg_alpha': 0, 'reg_lambda': 2, 'min_child_weight': 2, 'gamma': 0, 'learning_rate': 0.0653024669674671, 'colsample_bytree': 0.98}. Best is trial 52 with value: 0.9070942420073136.\u001b[0m\n",
            "\u001b[32m[I 2021-12-11 05:31:46,324]\u001b[0m Trial 55 finished with value: 0.902904825468335 and parameters: {'n_estimators': 990, 'max_depth': 4, 'reg_alpha': 0, 'reg_lambda': 2, 'min_child_weight': 2, 'gamma': 0, 'learning_rate': 0.031130994032880728, 'colsample_bytree': 0.98}. Best is trial 52 with value: 0.9070942420073136.\u001b[0m\n",
            "\u001b[32m[I 2021-12-11 05:31:46,647]\u001b[0m Trial 56 finished with value: 0.9030470151912521 and parameters: {'n_estimators': 970, 'max_depth': 3, 'reg_alpha': 0, 'reg_lambda': 3, 'min_child_weight': 3, 'gamma': 0, 'learning_rate': 0.030130254737979336, 'colsample_bytree': 0.98}. Best is trial 52 with value: 0.9070942420073136.\u001b[0m\n",
            "\u001b[32m[I 2021-12-11 05:31:46,965]\u001b[0m Trial 57 finished with value: 0.8798760137616789 and parameters: {'n_estimators': 990, 'max_depth': 3, 'reg_alpha': 0, 'reg_lambda': 4, 'min_child_weight': 3, 'gamma': 1, 'learning_rate': 0.030828380324629107, 'colsample_bytree': 1.0}. Best is trial 52 with value: 0.9070942420073136.\u001b[0m\n",
            "\u001b[32m[I 2021-12-11 05:31:47,339]\u001b[0m Trial 58 finished with value: 0.868037356994663 and parameters: {'n_estimators': 950, 'max_depth': 4, 'reg_alpha': 0, 'reg_lambda': 3, 'min_child_weight': 4, 'gamma': 0, 'learning_rate': 0.023973509002271826, 'colsample_bytree': 0.97}. Best is trial 52 with value: 0.9070942420073136.\u001b[0m\n",
            "\u001b[32m[I 2021-12-11 05:31:47,625]\u001b[0m Trial 59 finished with value: 0.8771765927780839 and parameters: {'n_estimators': 1000, 'max_depth': 2, 'reg_alpha': 0, 'reg_lambda': 4, 'min_child_weight': 3, 'gamma': 0, 'learning_rate': 0.020232519116334658, 'colsample_bytree': 0.97}. Best is trial 52 with value: 0.9070942420073136.\u001b[0m\n",
            "\u001b[32m[I 2021-12-11 05:31:47,922]\u001b[0m Trial 60 finished with value: 0.8687061391945147 and parameters: {'n_estimators': 900, 'max_depth': 3, 'reg_alpha': 0, 'reg_lambda': 3, 'min_child_weight': 4, 'gamma': 1, 'learning_rate': 0.03181288941510198, 'colsample_bytree': 1.0}. Best is trial 52 with value: 0.9070942420073136.\u001b[0m\n",
            "\u001b[32m[I 2021-12-11 05:31:48,311]\u001b[0m Trial 61 finished with value: 0.8890853977976075 and parameters: {'n_estimators': 950, 'max_depth': 4, 'reg_alpha': 0, 'reg_lambda': 5, 'min_child_weight': 2, 'gamma': 0, 'learning_rate': 0.0492826379859171, 'colsample_bytree': 0.94}. Best is trial 52 with value: 0.9070942420073136.\u001b[0m\n",
            "\u001b[32m[I 2021-12-11 05:31:48,807]\u001b[0m Trial 62 finished with value: 0.9072586562861261 and parameters: {'n_estimators': 870, 'max_depth': 6, 'reg_alpha': 0, 'reg_lambda': 2, 'min_child_weight': 2, 'gamma': 0, 'learning_rate': 0.048260861699316114, 'colsample_bytree': 0.93}. Best is trial 62 with value: 0.9072586562861261.\u001b[0m\n",
            "\u001b[32m[I 2021-12-11 05:31:49,031]\u001b[0m Trial 63 finished with value: 0.8493882103899111 and parameters: {'n_estimators': 870, 'max_depth': 2, 'reg_alpha': 0, 'reg_lambda': 2, 'min_child_weight': 2, 'gamma': 0, 'learning_rate': 0.027570711020893746, 'colsample_bytree': 0.33999999999999997}. Best is trial 62 with value: 0.9072586562861261.\u001b[0m\n",
            "\u001b[32m[I 2021-12-11 05:31:49,522]\u001b[0m Trial 64 finished with value: 0.899185315886602 and parameters: {'n_estimators': 900, 'max_depth': 6, 'reg_alpha': 0, 'reg_lambda': 2, 'min_child_weight': 3, 'gamma': 0, 'learning_rate': 0.016561245085702475, 'colsample_bytree': 0.97}. Best is trial 62 with value: 0.9072586562861261.\u001b[0m\n",
            "\u001b[32m[I 2021-12-11 05:31:50,122]\u001b[0m Trial 65 finished with value: 0.8849460311069802 and parameters: {'n_estimators': 970, 'max_depth': 8, 'reg_alpha': 0, 'reg_lambda': 3, 'min_child_weight': 3, 'gamma': 0, 'learning_rate': 0.024321836163674244, 'colsample_bytree': 0.82}. Best is trial 62 with value: 0.9072586562861261.\u001b[0m\n",
            "\u001b[32m[I 2021-12-11 05:31:50,489]\u001b[0m Trial 66 finished with value: 0.8917274678240105 and parameters: {'n_estimators': 910, 'max_depth': 4, 'reg_alpha': 0, 'reg_lambda': 2, 'min_child_weight': 2, 'gamma': 1, 'learning_rate': 0.03306037122797466, 'colsample_bytree': 0.94}. Best is trial 62 with value: 0.9072586562861261.\u001b[0m\n",
            "\u001b[32m[I 2021-12-11 05:31:51,039]\u001b[0m Trial 67 finished with value: 0.8961702570546602 and parameters: {'n_estimators': 930, 'max_depth': 6, 'reg_alpha': 0, 'reg_lambda': 2, 'min_child_weight': 2, 'gamma': 0, 'learning_rate': 0.04380301853139907, 'colsample_bytree': 1.0}. Best is trial 62 with value: 0.9072586562861261.\u001b[0m\n",
            "\u001b[32m[I 2021-12-11 05:31:51,368]\u001b[0m Trial 68 finished with value: 0.873642724801278 and parameters: {'n_estimators': 1000, 'max_depth': 3, 'reg_alpha': 0, 'reg_lambda': 3, 'min_child_weight': 2, 'gamma': 4, 'learning_rate': 0.021382553557620313, 'colsample_bytree': 0.98}. Best is trial 62 with value: 0.9072586562861261.\u001b[0m\n",
            "\u001b[32m[I 2021-12-11 05:31:51,479]\u001b[0m Trial 69 finished with value: 0.7507989114240766 and parameters: {'n_estimators': 160, 'max_depth': 4, 'reg_alpha': 0, 'reg_lambda': 2, 'min_child_weight': 3, 'gamma': 1, 'learning_rate': 0.011382446375924867, 'colsample_bytree': 0.83}. Best is trial 62 with value: 0.9072586562861261.\u001b[0m\n",
            "\u001b[32m[I 2021-12-11 05:31:52,039]\u001b[0m Trial 70 finished with value: 0.9034401092033558 and parameters: {'n_estimators': 870, 'max_depth': 8, 'reg_alpha': 0, 'reg_lambda': 2, 'min_child_weight': 2, 'gamma': 0, 'learning_rate': 0.06500082164001474, 'colsample_bytree': 0.88}. Best is trial 62 with value: 0.9072586562861261.\u001b[0m\n",
            "\u001b[32m[I 2021-12-11 05:31:52,694]\u001b[0m Trial 71 finished with value: 0.9031982482864725 and parameters: {'n_estimators': 860, 'max_depth': 8, 'reg_alpha': 0, 'reg_lambda': 2, 'min_child_weight': 2, 'gamma': 0, 'learning_rate': 0.034886035211511277, 'colsample_bytree': 0.92}. Best is trial 62 with value: 0.9072586562861261.\u001b[0m\n",
            "\u001b[32m[I 2021-12-11 05:31:53,340]\u001b[0m Trial 72 finished with value: 0.903415148640245 and parameters: {'n_estimators': 830, 'max_depth': 15, 'reg_alpha': 0, 'reg_lambda': 2, 'min_child_weight': 2, 'gamma': 0, 'learning_rate': 0.06650793656244425, 'colsample_bytree': 0.88}. Best is trial 62 with value: 0.9072586562861261.\u001b[0m\n",
            "\u001b[32m[I 2021-12-11 05:31:53,987]\u001b[0m Trial 73 finished with value: 0.9025645287219565 and parameters: {'n_estimators': 830, 'max_depth': 15, 'reg_alpha': 0, 'reg_lambda': 2, 'min_child_weight': 2, 'gamma': 0, 'learning_rate': 0.06658110226804567, 'colsample_bytree': 0.87}. Best is trial 62 with value: 0.9072586562861261.\u001b[0m\n",
            "\u001b[32m[I 2021-12-11 05:31:54,355]\u001b[0m Trial 74 finished with value: 0.9116033526866252 and parameters: {'n_estimators': 870, 'max_depth': 15, 'reg_alpha': 0, 'reg_lambda': 1, 'min_child_weight': 2, 'gamma': 0, 'learning_rate': 0.11691710979950468, 'colsample_bytree': 0.77}. Best is trial 74 with value: 0.9116033526866252.\u001b[0m\n",
            "\u001b[32m[I 2021-12-11 05:31:55,316]\u001b[0m Trial 75 finished with value: 0.8991318072600948 and parameters: {'n_estimators': 880, 'max_depth': 15, 'reg_alpha': 0, 'reg_lambda': 1, 'min_child_weight': 2, 'gamma': 1, 'learning_rate': 0.14063623330878847, 'colsample_bytree': 0.89}. Best is trial 74 with value: 0.9116033526866252.\u001b[0m\n",
            "\u001b[32m[I 2021-12-11 05:31:55,508]\u001b[0m Trial 76 finished with value: 0.8725627247187343 and parameters: {'n_estimators': 750, 'max_depth': 14, 'reg_alpha': 5, 'reg_lambda': 1, 'min_child_weight': 2, 'gamma': 0, 'learning_rate': 0.11000010194695828, 'colsample_bytree': 0.76}. Best is trial 74 with value: 0.9116033526866252.\u001b[0m\n",
            "\u001b[32m[I 2021-12-11 05:31:55,962]\u001b[0m Trial 77 finished with value: 0.9138698900503437 and parameters: {'n_estimators': 770, 'max_depth': 17, 'reg_alpha': 0, 'reg_lambda': 1, 'min_child_weight': 2, 'gamma': 0, 'learning_rate': 0.08484143500835284, 'colsample_bytree': 0.85}. Best is trial 77 with value: 0.9138698900503437.\u001b[0m\n",
            "\u001b[32m[I 2021-12-11 05:31:56,407]\u001b[0m Trial 78 finished with value: 0.9132410475812928 and parameters: {'n_estimators': 770, 'max_depth': 17, 'reg_alpha': 0, 'reg_lambda': 1, 'min_child_weight': 2, 'gamma': 0, 'learning_rate': 0.08598956448916847, 'colsample_bytree': 0.85}. Best is trial 77 with value: 0.9138698900503437.\u001b[0m\n",
            "\u001b[32m[I 2021-12-11 05:31:56,795]\u001b[0m Trial 79 finished with value: 0.8765926898745731 and parameters: {'n_estimators': 770, 'max_depth': 17, 'reg_alpha': 3, 'reg_lambda': 1, 'min_child_weight': 2, 'gamma': 1, 'learning_rate': 0.08864667468399869, 'colsample_bytree': 0.78}. Best is trial 77 with value: 0.9138698900503437.\u001b[0m\n",
            "\u001b[32m[I 2021-12-11 05:31:57,262]\u001b[0m Trial 80 finished with value: 0.8838184208003993 and parameters: {'n_estimators': 810, 'max_depth': 17, 'reg_alpha': 0, 'reg_lambda': 1, 'min_child_weight': 2, 'gamma': 0, 'learning_rate': 0.07901374895850609, 'colsample_bytree': 0.7}. Best is trial 77 with value: 0.9138698900503437.\u001b[0m\n",
            "\u001b[32m[I 2021-12-11 05:31:57,595]\u001b[0m Trial 81 finished with value: 0.9095313573623568 and parameters: {'n_estimators': 730, 'max_depth': 16, 'reg_alpha': 0, 'reg_lambda': 1, 'min_child_weight': 2, 'gamma': 0, 'learning_rate': 0.14126972010164002, 'colsample_bytree': 0.84}. Best is trial 77 with value: 0.9138698900503437.\u001b[0m\n",
            "\u001b[32m[I 2021-12-11 05:31:57,924]\u001b[0m Trial 82 finished with value: 0.9218090679050458 and parameters: {'n_estimators': 780, 'max_depth': 19, 'reg_alpha': 0, 'reg_lambda': 1, 'min_child_weight': 2, 'gamma': 0, 'learning_rate': 0.17138021923098956, 'colsample_bytree': 0.84}. Best is trial 82 with value: 0.9218090679050458.\u001b[0m\n",
            "\u001b[32m[I 2021-12-11 05:31:58,247]\u001b[0m Trial 83 finished with value: 0.9142095941393839 and parameters: {'n_estimators': 730, 'max_depth': 19, 'reg_alpha': 0, 'reg_lambda': 1, 'min_child_weight': 2, 'gamma': 0, 'learning_rate': 0.1603196591920527, 'colsample_bytree': 0.73}. Best is trial 82 with value: 0.9218090679050458.\u001b[0m\n",
            "\u001b[32m[I 2021-12-11 05:31:58,571]\u001b[0m Trial 84 finished with value: 0.8894692957253069 and parameters: {'n_estimators': 720, 'max_depth': 20, 'reg_alpha': 0, 'reg_lambda': 1, 'min_child_weight': 2, 'gamma': 0, 'learning_rate': 0.15412333856394161, 'colsample_bytree': 0.65}. Best is trial 82 with value: 0.9218090679050458.\u001b[0m\n",
            "\u001b[32m[I 2021-12-11 05:31:58,869]\u001b[0m Trial 85 finished with value: 0.9046385637624814 and parameters: {'n_estimators': 750, 'max_depth': 19, 'reg_alpha': 0, 'reg_lambda': 0, 'min_child_weight': 2, 'gamma': 0, 'learning_rate': 0.16611726169375793, 'colsample_bytree': 0.73}. Best is trial 82 with value: 0.9218090679050458.\u001b[0m\n",
            "\u001b[32m[I 2021-12-11 05:31:59,172]\u001b[0m Trial 86 finished with value: 0.9159174801585902 and parameters: {'n_estimators': 740, 'max_depth': 17, 'reg_alpha': 0, 'reg_lambda': 1, 'min_child_weight': 2, 'gamma': 0, 'learning_rate': 0.20255723482602, 'colsample_bytree': 0.8099999999999999}. Best is trial 82 with value: 0.9218090679050458.\u001b[0m\n",
            "\u001b[32m[I 2021-12-11 05:31:59,405]\u001b[0m Trial 87 finished with value: 0.9107810698031384 and parameters: {'n_estimators': 680, 'max_depth': 17, 'reg_alpha': 0, 'reg_lambda': 0, 'min_child_weight': 2, 'gamma': 0, 'learning_rate': 0.2216521520418516, 'colsample_bytree': 0.8099999999999999}. Best is trial 82 with value: 0.9218090679050458.\u001b[0m\n",
            "\u001b[32m[I 2021-12-11 05:32:00,162]\u001b[0m Trial 88 finished with value: 0.9014459895388445 and parameters: {'n_estimators': 680, 'max_depth': 17, 'reg_alpha': 0, 'reg_lambda': 0, 'min_child_weight': 2, 'gamma': 1, 'learning_rate': 0.13202743975928993, 'colsample_bytree': 0.74}. Best is trial 82 with value: 0.9218090679050458.\u001b[0m\n",
            "\u001b[32m[I 2021-12-11 05:32:00,337]\u001b[0m Trial 89 finished with value: 0.8926857508049704 and parameters: {'n_estimators': 630, 'max_depth': 16, 'reg_alpha': 1, 'reg_lambda': 1, 'min_child_weight': 2, 'gamma': 0, 'learning_rate': 0.25155727089647223, 'colsample_bytree': 0.8099999999999999}. Best is trial 82 with value: 0.9218090679050458.\u001b[0m\n",
            "\u001b[32m[I 2021-12-11 05:32:00,522]\u001b[0m Trial 90 finished with value: 0.886814797467751 and parameters: {'n_estimators': 770, 'max_depth': 19, 'reg_alpha': 4, 'reg_lambda': 0, 'min_child_weight': 3, 'gamma': 0, 'learning_rate': 0.23310816236783255, 'colsample_bytree': 0.85}. Best is trial 82 with value: 0.9218090679050458.\u001b[0m\n",
            "\u001b[32m[I 2021-12-11 05:32:00,813]\u001b[0m Trial 91 finished with value: 0.8931336470337677 and parameters: {'n_estimators': 730, 'max_depth': 18, 'reg_alpha': 0, 'reg_lambda': 1, 'min_child_weight': 2, 'gamma': 0, 'learning_rate': 0.2159701793445439, 'colsample_bytree': 0.69}. Best is trial 82 with value: 0.9218090679050458.\u001b[0m\n",
            "\u001b[32m[I 2021-12-11 05:32:01,148]\u001b[0m Trial 92 finished with value: 0.9128559166083748 and parameters: {'n_estimators': 810, 'max_depth': 20, 'reg_alpha': 0, 'reg_lambda': 1, 'min_child_weight': 2, 'gamma': 0, 'learning_rate': 0.1739837469893339, 'colsample_bytree': 0.78}. Best is trial 82 with value: 0.9218090679050458.\u001b[0m\n",
            "\u001b[32m[I 2021-12-11 05:32:01,447]\u001b[0m Trial 93 finished with value: 0.8875534615762861 and parameters: {'n_estimators': 750, 'max_depth': 20, 'reg_alpha': 0, 'reg_lambda': 1, 'min_child_weight': 2, 'gamma': 0, 'learning_rate': 0.17568740458580703, 'colsample_bytree': 0.62}. Best is trial 82 with value: 0.9218090679050458.\u001b[0m\n",
            "\u001b[32m[I 2021-12-11 05:32:01,832]\u001b[0m Trial 94 finished with value: 0.9095130788853333 and parameters: {'n_estimators': 780, 'max_depth': 16, 'reg_alpha': 0, 'reg_lambda': 1, 'min_child_weight': 2, 'gamma': 0, 'learning_rate': 0.1158927023571409, 'colsample_bytree': 0.78}. Best is trial 82 with value: 0.9218090679050458.\u001b[0m\n",
            "\u001b[32m[I 2021-12-11 05:32:02,225]\u001b[0m Trial 95 finished with value: 0.9113025886482516 and parameters: {'n_estimators': 810, 'max_depth': 16, 'reg_alpha': 0, 'reg_lambda': 1, 'min_child_weight': 2, 'gamma': 0, 'learning_rate': 0.10634559007312361, 'colsample_bytree': 0.78}. Best is trial 82 with value: 0.9218090679050458.\u001b[0m\n",
            "\u001b[32m[I 2021-12-11 05:32:02,545]\u001b[0m Trial 96 finished with value: 0.9136200836654164 and parameters: {'n_estimators': 700, 'max_depth': 21, 'reg_alpha': 0, 'reg_lambda': 1, 'min_child_weight': 2, 'gamma': 0, 'learning_rate': 0.15370431654849742, 'colsample_bytree': 0.83}. Best is trial 82 with value: 0.9218090679050458.\u001b[0m\n",
            "\u001b[32m[I 2021-12-11 05:32:02,820]\u001b[0m Trial 97 finished with value: 0.9062090642265925 and parameters: {'n_estimators': 810, 'max_depth': 21, 'reg_alpha': 0, 'reg_lambda': 0, 'min_child_weight': 2, 'gamma': 0, 'learning_rate': 0.1966295595714812, 'colsample_bytree': 0.72}. Best is trial 82 with value: 0.9218090679050458.\u001b[0m\n",
            "\u001b[32m[I 2021-12-11 05:32:03,148]\u001b[0m Trial 98 finished with value: 0.9124734721107024 and parameters: {'n_estimators': 700, 'max_depth': 19, 'reg_alpha': 0, 'reg_lambda': 1, 'min_child_weight': 2, 'gamma': 0, 'learning_rate': 0.16497709064108249, 'colsample_bytree': 0.76}. Best is trial 82 with value: 0.9218090679050458.\u001b[0m\n",
            "\u001b[32m[I 2021-12-11 05:32:03,923]\u001b[0m Trial 99 finished with value: 0.9029302605760167 and parameters: {'n_estimators': 710, 'max_depth': 19, 'reg_alpha': 0, 'reg_lambda': 1, 'min_child_weight': 2, 'gamma': 1, 'learning_rate': 0.15990052962721418, 'colsample_bytree': 0.76}. Best is trial 82 with value: 0.9218090679050458.\u001b[0m\n"
          ]
        },
        {
          "output_type": "stream",
          "name": "stdout",
          "text": [
            "Random forest Regressor\n",
            "Accuracy: 0.8972698456965222\n",
            "Best hyperparameters: {'n_estimators': 990, 'max_features': 'auto', 'max_depth': 29.871752784324265, 'min_samples_split': 2, 'min_samples_leaf': 1, 'criterion': 'squared_error'}\n",
            "-------------\n",
            "XGB Regressor\n",
            "Accuracy: 0.9218090679050458\n",
            "Best hyperparameters: {'n_estimators': 780, 'max_depth': 19, 'reg_alpha': 0, 'reg_lambda': 1, 'min_child_weight': 2, 'gamma': 0, 'learning_rate': 0.17138021923098956, 'colsample_bytree': 0.84}\n"
          ]
        }
      ]
    },
    {
      "cell_type": "markdown",
      "source": [
        "\n",
        "\n",
        "*   Random forest Regressor\n",
        "Accuracy: 0.8972698456965222\n",
        "\n",
        "*   XGB Regressor\n",
        "Accuracy: 0.9218090679050458\n",
        "\n"
      ],
      "metadata": {
        "id": "DrfI_kNpAP9d"
      }
    },
    {
      "cell_type": "markdown",
      "metadata": {
        "id": "HbiaAfLesH9A"
      },
      "source": [
        "**Genetic Algorithm**"
      ]
    },
    {
      "cell_type": "code",
      "metadata": {
        "colab": {
          "base_uri": "https://localhost:8080/",
          "height": 802
        },
        "id": "3gX0qIUpsxeP",
        "outputId": "834d6159-8e5d-426e-f0a5-878491e56218"
      },
      "source": [
        "!pip install tpot"
      ],
      "execution_count": null,
      "outputs": [
        {
          "output_type": "stream",
          "name": "stdout",
          "text": [
            "Collecting tpot\n",
            "  Downloading TPOT-0.11.7-py3-none-any.whl (87 kB)\n",
            "\u001b[?25l\r\u001b[K     |███▊                            | 10 kB 21.3 MB/s eta 0:00:01\r\u001b[K     |███████▌                        | 20 kB 7.0 MB/s eta 0:00:01\r\u001b[K     |███████████▎                    | 30 kB 9.3 MB/s eta 0:00:01\r\u001b[K     |███████████████                 | 40 kB 9.0 MB/s eta 0:00:01\r\u001b[K     |██████████████████▉             | 51 kB 5.3 MB/s eta 0:00:01\r\u001b[K     |██████████████████████▋         | 61 kB 4.7 MB/s eta 0:00:01\r\u001b[K     |██████████████████████████▎     | 71 kB 4.9 MB/s eta 0:00:01\r\u001b[K     |██████████████████████████████  | 81 kB 5.5 MB/s eta 0:00:01\r\u001b[K     |████████████████████████████████| 87 kB 2.9 MB/s \n",
            "\u001b[?25hRequirement already satisfied: scipy>=1.3.1 in /usr/local/lib/python3.7/dist-packages (from tpot) (1.4.1)\n",
            "Collecting xgboost>=1.1.0\n",
            "  Downloading xgboost-1.5.1-py3-none-manylinux2014_x86_64.whl (173.5 MB)\n",
            "\u001b[K     |████████████████████████████████| 173.5 MB 10 kB/s \n",
            "\u001b[?25hCollecting stopit>=1.1.1\n",
            "  Downloading stopit-1.1.2.tar.gz (18 kB)\n",
            "Requirement already satisfied: tqdm>=4.36.1 in /usr/local/lib/python3.7/dist-packages (from tpot) (4.62.3)\n",
            "Collecting deap>=1.2\n",
            "  Downloading deap-1.3.1-cp37-cp37m-manylinux_2_5_x86_64.manylinux1_x86_64.manylinux_2_12_x86_64.manylinux2010_x86_64.whl (160 kB)\n",
            "\u001b[K     |████████████████████████████████| 160 kB 47.7 MB/s \n",
            "\u001b[?25hRequirement already satisfied: pandas>=0.24.2 in /usr/local/lib/python3.7/dist-packages (from tpot) (1.1.5)\n",
            "Requirement already satisfied: joblib>=0.13.2 in /usr/local/lib/python3.7/dist-packages (from tpot) (1.1.0)\n",
            "Requirement already satisfied: numpy>=1.16.3 in /usr/local/lib/python3.7/dist-packages (from tpot) (1.19.5)\n",
            "Requirement already satisfied: scikit-learn>=0.22.0 in /usr/local/lib/python3.7/dist-packages (from tpot) (1.0.1)\n",
            "Collecting update-checker>=0.16\n",
            "  Downloading update_checker-0.18.0-py3-none-any.whl (7.0 kB)\n",
            "Requirement already satisfied: python-dateutil>=2.7.3 in /usr/local/lib/python3.7/dist-packages (from pandas>=0.24.2->tpot) (2.8.2)\n",
            "Requirement already satisfied: pytz>=2017.2 in /usr/local/lib/python3.7/dist-packages (from pandas>=0.24.2->tpot) (2018.9)\n",
            "Requirement already satisfied: six>=1.5 in /usr/local/lib/python3.7/dist-packages (from python-dateutil>=2.7.3->pandas>=0.24.2->tpot) (1.15.0)\n",
            "Requirement already satisfied: threadpoolctl>=2.0.0 in /usr/local/lib/python3.7/dist-packages (from scikit-learn>=0.22.0->tpot) (3.0.0)\n",
            "Requirement already satisfied: requests>=2.3.0 in /usr/local/lib/python3.7/dist-packages (from update-checker>=0.16->tpot) (2.23.0)\n",
            "Requirement already satisfied: urllib3!=1.25.0,!=1.25.1,<1.26,>=1.21.1 in /usr/local/lib/python3.7/dist-packages (from requests>=2.3.0->update-checker>=0.16->tpot) (1.24.3)\n",
            "Requirement already satisfied: idna<3,>=2.5 in /usr/local/lib/python3.7/dist-packages (from requests>=2.3.0->update-checker>=0.16->tpot) (2.10)\n",
            "Requirement already satisfied: chardet<4,>=3.0.2 in /usr/local/lib/python3.7/dist-packages (from requests>=2.3.0->update-checker>=0.16->tpot) (3.0.4)\n",
            "Requirement already satisfied: certifi>=2017.4.17 in /usr/local/lib/python3.7/dist-packages (from requests>=2.3.0->update-checker>=0.16->tpot) (2021.10.8)\n",
            "Building wheels for collected packages: stopit\n",
            "  Building wheel for stopit (setup.py) ... \u001b[?25l\u001b[?25hdone\n",
            "  Created wheel for stopit: filename=stopit-1.1.2-py3-none-any.whl size=11952 sha256=3159be28ca7f2f7aac213835e10693ade7288483b7e9a65a5ed5573b8416a73d\n",
            "  Stored in directory: /root/.cache/pip/wheels/e2/d2/79/eaf81edb391e27c87f51b8ef901ecc85a5363dc96b8b8d71e3\n",
            "Successfully built stopit\n",
            "Installing collected packages: xgboost, update-checker, stopit, deap, tpot\n",
            "  Attempting uninstall: xgboost\n",
            "    Found existing installation: xgboost 0.90\n",
            "    Uninstalling xgboost-0.90:\n",
            "      Successfully uninstalled xgboost-0.90\n",
            "Successfully installed deap-1.3.1 stopit-1.1.2 tpot-0.11.7 update-checker-0.18.0 xgboost-1.5.1\n"
          ]
        },
        {
          "output_type": "display_data",
          "data": {
            "application/vnd.colab-display-data+json": {
              "pip_warning": {
                "packages": [
                  "xgboost"
                ]
              }
            }
          },
          "metadata": {}
        }
      ]
    },
    {
      "cell_type": "code",
      "metadata": {
        "id": "8m6D40fC9HA7",
        "colab": {
          "base_uri": "https://localhost:8080/",
          "height": 263,
          "referenced_widgets": [
            "05c5c284d9114d209999bca0db433209",
            "8a467f6e7988461688598e1f2614fca6",
            "b05275f35a484645b1706fd1ccbd1789",
            "3db0183b535045ad87173b9a6f9e2fa9",
            "e38c983206334433b00ddba27d156def",
            "738f67fa951044df8f4f24aa83cd3aa1",
            "0bf00672d108487582f24164cc2b0740",
            "7a9bc673bb8b49eea214c433d6f44538",
            "c00de6ad9ae74bcf9710b7e98f252987",
            "647d3079d39c48138d6ce60ee8c92ab1",
            "c05862106ea74301b90e15d499f579e5"
          ]
        },
        "outputId": "4cbf1fe1-8643-46eb-d986-a5ea38a9ffb0"
      },
      "source": [
        "from tpot import TPOTRegressor\n",
        "\n",
        "tpot = TPOTRegressor(generations=5, population_size=50, verbosity=2 , offspring_size= 12)\n",
        "tpot.fit(x_train, y_train)\n",
        "# tpot.export('tpot_boston_pipeline.py')"
      ],
      "execution_count": null,
      "outputs": [
        {
          "output_type": "display_data",
          "data": {
            "application/vnd.jupyter.widget-view+json": {
              "model_id": "05c5c284d9114d209999bca0db433209",
              "version_minor": 0,
              "version_major": 2
            },
            "text/plain": [
              "Optimization Progress:   0%|          | 0/110 [00:00<?, ?pipeline/s]"
            ]
          },
          "metadata": {}
        },
        {
          "output_type": "stream",
          "name": "stdout",
          "text": [
            "\n",
            "Generation 1 - Current best internal CV score: -4.0809891912839\n",
            "\n",
            "Generation 2 - Current best internal CV score: -2.4409799335434967\n",
            "\n",
            "Generation 3 - Current best internal CV score: -2.4409799335434967\n",
            "\n",
            "Generation 4 - Current best internal CV score: -2.4409799335434967\n",
            "\n",
            "Generation 5 - Current best internal CV score: -2.4409799335434967\n",
            "\n",
            "Best pipeline: XGBRegressor(input_matrix, learning_rate=1.0, max_depth=4, min_child_weight=1, n_estimators=100, n_jobs=1, objective=reg:squarederror, subsample=0.7500000000000001, verbosity=0)\n"
          ]
        },
        {
          "output_type": "execute_result",
          "data": {
            "text/plain": [
              "TPOTRegressor(generations=5, offspring_size=12, population_size=50, verbosity=2)"
            ]
          },
          "metadata": {},
          "execution_count": 33
        }
      ]
    },
    {
      "cell_type": "code",
      "metadata": {
        "id": "-lma-pc0Sc-i"
      },
      "source": [
        "from sklearn.model_selection import ShuffleSplit\n",
        "cv = ShuffleSplit(n_splits=5 , random_state= 0 , test_size=0.2)"
      ],
      "execution_count": null,
      "outputs": []
    },
    {
      "cell_type": "code",
      "metadata": {
        "id": "b9qsNNhW-ARc",
        "colab": {
          "base_uri": "https://localhost:8080/"
        },
        "outputId": "4a098434-09b9-4f9f-fdf2-3f1ab8416ae5"
      },
      "source": [
        "tpot.score(x_train, y_train)"
      ],
      "execution_count": null,
      "outputs": [
        {
          "output_type": "execute_result",
          "data": {
            "text/plain": [
              "-3.397566205432582e-05"
            ]
          },
          "metadata": {},
          "execution_count": 35
        }
      ]
    },
    {
      "cell_type": "code",
      "metadata": {
        "id": "Dj-p0FPhOLMf"
      },
      "source": [
        "from sklearn.model_selection import cross_val_score\n",
        "from sklearn.model_selection import ShuffleSplit"
      ],
      "execution_count": null,
      "outputs": []
    },
    {
      "cell_type": "code",
      "metadata": {
        "id": "uLXqMElbj2Wx",
        "colab": {
          "base_uri": "https://localhost:8080/"
        },
        "outputId": "42adfeb7-b057-48d6-8082-0b84a0e7744e"
      },
      "source": [
        "XGBoost = XGBRegressor( learning_rate=0.1, max_depth=10, min_child_weight=2, n_estimators=100, n_jobs=1, objective='reg:squarederror', subsample=0.8500000000000001, verbosity=0)\n",
        "XGBoost.fit(x_train , y_train)\n",
        "XGBoost.score(x_test , y_test)\n"
      ],
      "execution_count": null,
      "outputs": [
        {
          "output_type": "execute_result",
          "data": {
            "text/plain": [
              "0.9675022101022176"
            ]
          },
          "metadata": {},
          "execution_count": 37
        }
      ]
    },
    {
      "cell_type": "markdown",
      "source": [
        "\n",
        "\n",
        "*   XGBoost Regressor : Accuracy -> 0.9675022101022176\n",
        "\n",
        "Get Accuracy of 96%\n",
        "\n",
        "\n"
      ],
      "metadata": {
        "id": "Eqoal_l7Av3H"
      }
    },
    {
      "cell_type": "code",
      "metadata": {
        "id": "ZXTS78PSN3rd"
      },
      "source": [
        "y_pred=XGBoost.predict(x_test)\n"
      ],
      "execution_count": null,
      "outputs": []
    },
    {
      "cell_type": "code",
      "source": [
        "import pickle"
      ],
      "metadata": {
        "id": "vQq24j3ZBUrm"
      },
      "execution_count": null,
      "outputs": []
    },
    {
      "cell_type": "code",
      "source": [
        "with open('RF_Price_Predection_model2.pkl' , 'wb') as file:\n",
        "    pickle.dump(XGBoost,file)"
      ],
      "metadata": {
        "id": "V3H4pnwHeBJO"
      },
      "execution_count": null,
      "outputs": []
    },
    {
      "cell_type": "code",
      "source": [
        ""
      ],
      "metadata": {
        "id": "0r_f4FL6Batv"
      },
      "execution_count": null,
      "outputs": []
    }
  ]
}